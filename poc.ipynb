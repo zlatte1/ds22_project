{
 "cells": [
  {
   "attachments": {},
   "cell_type": "markdown",
   "metadata": {},
   "source": [
    "# IMDb Rating Predictions: EDA and POC"
   ]
  },
  {
   "attachments": {},
   "cell_type": "markdown",
   "metadata": {},
   "source": [
    "IMDb, acronym for Internet Movie Database, is a website owned by Amazon.com where users can look for details about movies and TV shows: plot summaries, users reviews, genre, director and cast are just some of the attributes stored on IMDb. \n",
    "\n",
    "The goal of this project is to predict the rating of a given movie using properly trained Machine Learning models and evaluate the goodness of the predictions.\n",
    "The chosen dataset was made available on the Kaggle platform and it contains the top 100 movies between 2003 - 2022. \n",
    "\n",
    "Dataset: https://www.kaggle.com/datasets/georgescutelnicu/top-100-popular-movies-from-2003-to-2022-imdb "
   ]
  },
  {
   "cell_type": "code",
   "execution_count": 625,
   "metadata": {},
   "outputs": [],
   "source": [
    "import pandas as pd\n",
    "import numpy as np\n",
    "import matplotlib as plt\n",
    "\n",
    "\n",
    "# Data splitting\n",
    "from sklearn.model_selection import train_test_split\n",
    "\n",
    "# Creating a pipeline\n",
    "from sklearn.pipeline import Pipeline\n",
    "from sklearn.preprocessing import StandardScaler\n",
    "from sklearn.impute import SimpleImputer\n",
    "\n",
    "# GridSearch\n",
    "from sklearn.model_selection import GridSearchCV\n",
    "from sklearn.ensemble import RandomForestRegressor\n",
    "\n",
    "from sklearn.metrics import mean_squared_error\n",
    "\n",
    "import warnings\n",
    "warnings.filterwarnings('ignore')\n",
    "import pandas as pd\n",
    "import numpy as np\n",
    "import seaborn as sns\n",
    "import matplotlib.pyplot as plt\n",
    "from datetime import datetime\n",
    "from IPython.core.display import display, HTML\n",
    "import requests\n",
    "from sklearn.ensemble import RandomForestClassifier\n",
    "from sklearn.ensemble import ExtraTreesClassifier\n",
    "from sklearn.model_selection import train_test_split, KFold, cross_val_score\n",
    "from sklearn.preprocessing import StandardScaler, PolynomialFeatures\n",
    "import scipy.stats as stats\n",
    "from sklearn.neighbors import KNeighborsClassifier\n",
    "from sklearn.ensemble import ExtraTreesClassifier\n",
    "from sklearn.ensemble import GradientBoostingClassifier\n",
    "from sklearn.preprocessing import StandardScaler,MinMaxScaler\n",
    "import pickle"
   ]
  },
  {
   "attachments": {},
   "cell_type": "markdown",
   "metadata": {},
   "source": [
    "## EDA"
   ]
  },
  {
   "cell_type": "code",
   "execution_count": 626,
   "metadata": {},
   "outputs": [
    {
     "data": {
      "text/html": [
       "<div>\n",
       "<style scoped>\n",
       "    .dataframe tbody tr th:only-of-type {\n",
       "        vertical-align: middle;\n",
       "    }\n",
       "\n",
       "    .dataframe tbody tr th {\n",
       "        vertical-align: top;\n",
       "    }\n",
       "\n",
       "    .dataframe thead th {\n",
       "        text-align: right;\n",
       "    }\n",
       "</style>\n",
       "<table border=\"1\" class=\"dataframe\">\n",
       "  <thead>\n",
       "    <tr style=\"text-align: right;\">\n",
       "      <th></th>\n",
       "      <th>Title</th>\n",
       "      <th>Rating</th>\n",
       "      <th>Year</th>\n",
       "      <th>Month</th>\n",
       "      <th>Certificate</th>\n",
       "      <th>Runtime</th>\n",
       "      <th>Directors</th>\n",
       "      <th>Stars</th>\n",
       "      <th>Genre</th>\n",
       "      <th>Filming_location</th>\n",
       "      <th>Budget</th>\n",
       "      <th>Income</th>\n",
       "      <th>Country_of_origin</th>\n",
       "    </tr>\n",
       "  </thead>\n",
       "  <tbody>\n",
       "    <tr>\n",
       "      <th>0</th>\n",
       "      <td>Avatar: The Way of Water</td>\n",
       "      <td>7.8</td>\n",
       "      <td>2022</td>\n",
       "      <td>December</td>\n",
       "      <td>PG-13</td>\n",
       "      <td>192</td>\n",
       "      <td>James Cameron</td>\n",
       "      <td>Sam Worthington, Zoe Saldana, Sigourney Weaver...</td>\n",
       "      <td>Action, Adventure, Fantasy</td>\n",
       "      <td>New Zealand</td>\n",
       "      <td>$350,000,000</td>\n",
       "      <td>$2,267,946,983</td>\n",
       "      <td>United States</td>\n",
       "    </tr>\n",
       "    <tr>\n",
       "      <th>1</th>\n",
       "      <td>Guillermo del Toro's Pinocchio</td>\n",
       "      <td>7.6</td>\n",
       "      <td>2022</td>\n",
       "      <td>December</td>\n",
       "      <td>PG</td>\n",
       "      <td>117</td>\n",
       "      <td>Guillermo del Toro, Mark Gustafson</td>\n",
       "      <td>Ewan McGregor, David Bradley, Gregory Mann, Bu...</td>\n",
       "      <td>Animation, Drama, Family</td>\n",
       "      <td>USA</td>\n",
       "      <td>$35,000,000</td>\n",
       "      <td>$108,967</td>\n",
       "      <td>United States, Mexico, France</td>\n",
       "    </tr>\n",
       "  </tbody>\n",
       "</table>\n",
       "</div>"
      ],
      "text/plain": [
       "                            Title  Rating  Year     Month Certificate Runtime  \\\n",
       "0        Avatar: The Way of Water     7.8  2022  December       PG-13     192   \n",
       "1  Guillermo del Toro's Pinocchio     7.6  2022  December          PG     117   \n",
       "\n",
       "                            Directors  \\\n",
       "0                       James Cameron   \n",
       "1  Guillermo del Toro, Mark Gustafson   \n",
       "\n",
       "                                               Stars  \\\n",
       "0  Sam Worthington, Zoe Saldana, Sigourney Weaver...   \n",
       "1  Ewan McGregor, David Bradley, Gregory Mann, Bu...   \n",
       "\n",
       "                        Genre Filming_location         Budget  \\\n",
       "0  Action, Adventure, Fantasy      New Zealand  $350,000,000    \n",
       "1    Animation, Drama, Family              USA   $35,000,000    \n",
       "\n",
       "            Income              Country_of_origin  \n",
       "0  $2,267,946,983                   United States  \n",
       "1        $108,967   United States, Mexico, France  "
      ]
     },
     "execution_count": 626,
     "metadata": {},
     "output_type": "execute_result"
    }
   ],
   "source": [
    "dataset_raw = pd.read_csv('movies.csv')\n",
    "dataset_raw.head(2)"
   ]
  },
  {
   "attachments": {},
   "cell_type": "markdown",
   "metadata": {},
   "source": [
    "### Dataset\n",
    "\n",
    "The dataset consists of 13 different features (columns) with 2000 movies (rows). Summary of all the variables in the dataset. \n",
    "\n",
    "| Variable | Description | Type | Remove | Processing |\n",
    "| --- | --- | --- | --- | --- |\n",
    "| Title | Movie title | str |  |  |\n",
    "| Rating | Movie rating | float |  |  |\n",
    "| Year | Release year | int |  |  |\n",
    "| Month | Release month | str |  | Categorical variable |\n",
    "| Certificate |  Parental guidence categorisation | str | X |  |\n",
    "| Runtime | Movie duration in minutes | int |  | Convert to int |\n",
    "| Directors | Movie directors (can be more than one) | str |  | Replace by IMDb scoring/popularity score |\n",
    "| Stars | Actors and Actresses (can be more than one) | str |  | Replace by IMDb scoring/popularity score |\n",
    "| Genre | Type of movie (always more than one) | str |  | One-hot encoding |\n",
    "| Filming_location | Where the movie was filmed | str | X |  |\n",
    "| Budget | Amount of money spend on production (different currencies) | str |  | Common currency (USD) and convert to int |\n",
    "| Income | Movie profit (different currencies) | str |  | Common currency (USD) and convert to int |\n",
    "| Country_of_origin | Where the movie is produced | str | X |  |"
   ]
  },
  {
   "cell_type": "code",
   "execution_count": null,
   "metadata": {},
   "outputs": [],
   "source": []
  },
  {
   "attachments": {},
   "cell_type": "markdown",
   "metadata": {},
   "source": [
    "## Primary clean-up of the dataset\n",
    "\n",
    "1. Removing the 3 columns (not so significant for the analysis)\n",
    "2. Removing the movie that doesn't have a rating"
   ]
  },
  {
   "cell_type": "code",
   "execution_count": 627,
   "metadata": {},
   "outputs": [
    {
     "name": "stdout",
     "output_type": "stream",
     "text": [
      "-----------------------------\n",
      "Current number of columns: 10\n",
      "Current number of rows: 2000\n"
     ]
    }
   ],
   "source": [
    "# Removing unwanted columns\n",
    "dataset_pruned = dataset_raw.drop(['Certificate', 'Filming_location', 'Country_of_origin'], axis = 1)\n",
    "\n",
    "# Checking the number of rows\n",
    "print('-----------------------------')\n",
    "print(f'Current number of columns: {dataset_pruned.shape[1]}')\n",
    "print(f'Current number of rows: {dataset_pruned.shape[0]}')"
   ]
  },
  {
   "cell_type": "code",
   "execution_count": 628,
   "metadata": {},
   "outputs": [
    {
     "name": "stdout",
     "output_type": "stream",
     "text": [
      " Movie without rating: 85    A Man Called Otto\n",
      "Name: Title, dtype: object\n",
      "-----------------------------\n",
      "Current number of columns: 10\n",
      "Current number of rows: 1999\n"
     ]
    }
   ],
   "source": [
    "# Missing values\n",
    "dataset_pruned.isna().any()\n",
    "\n",
    "# Which doesn't have a rating\n",
    "movie_wo_rating = dataset_pruned[dataset_pruned['Rating'].isna()]['Title']\n",
    "print(f' Movie without rating: {movie_wo_rating}')\n",
    "\n",
    "# Removing movie from dataset\n",
    "delete_row = dataset_pruned[dataset_pruned['Title']=='A Man Called Otto'].index\n",
    "dataset_pruned = dataset_pruned.drop(delete_row)\n",
    "\n",
    "# Checking the number of rows\n",
    "print('-----------------------------')\n",
    "print(f'Current number of columns: {dataset_pruned.shape[1]}')\n",
    "print(f'Current number of rows: {dataset_pruned.shape[0]}')\n"
   ]
  },
  {
   "attachments": {},
   "cell_type": "markdown",
   "metadata": {},
   "source": [
    "## Variable Processing\n",
    "\n",
    "1. Turning 'Month' into a categorical variable i.e. Jan = 1, Feb = 2 etc.\n",
    "2. Converting 'Runtime' into type integer \n",
    "3. Turning 'Genre' into one-hot encoding \n",
    "4. Converting 'Budget' and 'Income' to USD currency\n",
    "\n",
    "'Directors' and 'Stars' are processed in the next part "
   ]
  },
  {
   "attachments": {},
   "cell_type": "markdown",
   "metadata": {},
   "source": [
    "### 1. Month: Converting to categorical vairable "
   ]
  },
  {
   "cell_type": "code",
   "execution_count": 629,
   "metadata": {},
   "outputs": [
    {
     "name": "stdout",
     "output_type": "stream",
     "text": [
      "Unique values: ['December' 'August' 'November' 'October' 'March' 'September' 'May'\n",
      " 'April' 'January' 'July' 'June' 'February' '2014' '2008']\n",
      "Number of times 2008 appears: 1\n",
      "Number of times 2014 appears: 1\n"
     ]
    }
   ],
   "source": [
    "# Checking how many unique values there are for column Month\n",
    "month_values = dataset_pruned['Month'].unique()\n",
    "odd_values_2008 = dataset_pruned['Month'].value_counts()['2008']\n",
    "odd_values_2014 = dataset_pruned['Month'].value_counts()['2014']\n",
    "\n",
    "print(f'Unique values: {month_values}')  # Here are some odd values\n",
    "print(f'Number of times 2008 appears: {odd_values_2008}')\n",
    "print(f'Number of times 2014 appears: {odd_values_2014}')"
   ]
  },
  {
   "cell_type": "code",
   "execution_count": 630,
   "metadata": {},
   "outputs": [
    {
     "name": "stdout",
     "output_type": "stream",
     "text": [
      "0       12\n",
      "1       12\n",
      "2        8\n",
      "3       11\n",
      "4       12\n",
      "        ..\n",
      "1995     6\n",
      "1996     7\n",
      "1997    11\n",
      "1998     2\n",
      "1999     8\n",
      "Name: Month, Length: 1997, dtype: int64\n",
      "-----------------------------\n",
      "Current number of columns: 10\n",
      "Current number of rows: 1997\n"
     ]
    }
   ],
   "source": [
    "# 1. Drop the 2008 and 2014 containing row\n",
    "dataset_processed_month = dataset_pruned.drop(dataset_pruned[dataset_pruned['Month'].isin(['2008', '2014'])].index)\n",
    "\n",
    "# 2. Maping names to integers\n",
    "month_map = {\n",
    "    'January': 1, \n",
    "    'February': 2, \n",
    "    'March': 3, \n",
    "    'April': 4, \n",
    "    'May': 5,\n",
    "    'June': 6,\n",
    "    'July': 7,\n",
    "    'August': 8,\n",
    "    'September': 9,\n",
    "    'October': 10,\n",
    "    'November': 11,\n",
    "    'December': 12\n",
    "}\n",
    "\n",
    "# 3. Replacing the names (str) with integers\n",
    "dataset_processed_month['Month'] = dataset_processed_month['Month'].replace(month_map)\n",
    "print(dataset_processed_month['Month'])\n",
    "\n",
    "# 4. Checking the dataset shape\n",
    "print('-----------------------------')\n",
    "print(f'Current number of columns: {dataset_processed_month.shape[1]}')\n",
    "print(f'Current number of rows: {dataset_processed_month.shape[0]}')"
   ]
  },
  {
   "attachments": {},
   "cell_type": "markdown",
   "metadata": {},
   "source": [
    "### 2. Runtime: Convering values into integer"
   ]
  },
  {
   "cell_type": "code",
   "execution_count": 631,
   "metadata": {},
   "outputs": [
    {
     "name": "stdout",
     "output_type": "stream",
     "text": [
      "Number of movies with unknown runtime: 1\n",
      "-----------------------------\n",
      "Current number of columns: 10\n",
      "Current number of rows: 1996\n"
     ]
    }
   ],
   "source": [
    "# 1. Checking for non-numerical values\n",
    "dataset_processed_month['Runtime'].unique()  # Movie with unknown duration\n",
    "\n",
    "# 2. Getting number of movies with uknown runtime\n",
    "unknown_runtime = dataset_processed_month['Runtime'].value_counts()['Unknown']\n",
    "print(f'Number of movies with unknown runtime: {unknown_runtime}')\n",
    "\n",
    "# 3. Removing these movies from the dataset\n",
    "dataset_processed_runtime = dataset_processed_month.drop(dataset_processed_month[dataset_processed_month['Runtime'].isin(['Unknown'])].index)\n",
    "\n",
    "# 4. Converting to int values\n",
    "dataset_processed_runtime['Runtime'] = dataset_processed_runtime['Runtime'].astype(int)\n",
    "\n",
    "# 5. Checking the dataset shape\n",
    "print('-----------------------------')\n",
    "print(f'Current number of columns: {dataset_processed_runtime.shape[1]}')\n",
    "print(f'Current number of rows: {dataset_processed_runtime.shape[0]}')"
   ]
  },
  {
   "attachments": {},
   "cell_type": "markdown",
   "metadata": {},
   "source": [
    "### 3. Genre: One-Hot Encoding"
   ]
  },
  {
   "cell_type": "code",
   "execution_count": 632,
   "metadata": {},
   "outputs": [
    {
     "name": "stdout",
     "output_type": "stream",
     "text": [
      "There are 20\n",
      "        possible genres and they are: ['Family', 'Music', 'Musical', 'Mystery', 'Drama', 'Sci-Fi', 'Animation', 'Thriller', 'Biography', 'Crime', 'War', 'Western', 'Action', 'Sport', 'History', 'Romance', 'Adventure', 'Comedy', 'Horror', 'Fantasy']\n"
     ]
    }
   ],
   "source": [
    "dataset_processed_genre = dataset_processed_runtime\n",
    "\n",
    "# 1. Creating a list with all genres mentioned in the dataset\n",
    "genre_list = []\n",
    "for genres in dataset_processed_genre['Genre']:\n",
    "    genre_list.append(genres.split(', '))\n",
    "\n",
    "# 2. Creating a list with genre categories\n",
    "unique_g= set()\n",
    "for genres in genre_list:\n",
    "    for genre in genres:\n",
    "        unique_g.add(genre)\n",
    "\n",
    "unique_genres = list(unique_g)\n",
    "print(f'''There are {len(unique_genres)}\n",
    "        possible genres and they are: {unique_genres}''')"
   ]
  },
  {
   "cell_type": "code",
   "execution_count": 633,
   "metadata": {},
   "outputs": [
    {
     "name": "stdout",
     "output_type": "stream",
     "text": [
      "                            Title Family Music Musical Mystery Drama Sci-Fi  \\\n",
      "0        Avatar: The Way of Water      0     0       0       0     0      0   \n",
      "1  Guillermo del Toro's Pinocchio      1     0       0       0     1      0   \n",
      "\n",
      "  Animation Thriller Biography  ... War Western Action Sport History Romance  \\\n",
      "0         0        0         0  ...   0       0      1     0       0       0   \n",
      "1         1        0         0  ...   0       0      0     0       0       0   \n",
      "\n",
      "  Adventure Comedy Horror Fantasy  \n",
      "0         1      0      0       1  \n",
      "1         0      0      0       0  \n",
      "\n",
      "[2 rows x 21 columns]\n"
     ]
    }
   ],
   "source": [
    "# 3. Creating a subtable with title as the first column followed by one \n",
    "# column per genre\n",
    "genre_subtable = pd.DataFrame(columns=['Title'] + unique_genres)\n",
    "\n",
    "# 4. For each movie, assign 1 to those genres it has been assigned \n",
    "for i, row in dataset_processed_genre.iterrows():\n",
    "    new_row = {'Title': row['Title']}\n",
    "    for genre in unique_genres:\n",
    "        new_row[genre] = 0\n",
    "    for genre in row['Genre'].split(', '):\n",
    "        new_row[genre] = 1\n",
    "    genre_subtable = genre_subtable.append(new_row, ignore_index=True)\n",
    "\n",
    "print(genre_subtable.head(2))"
   ]
  },
  {
   "cell_type": "code",
   "execution_count": 634,
   "metadata": {},
   "outputs": [
    {
     "name": "stdout",
     "output_type": "stream",
     "text": [
      "-----------------------------\n",
      "Current number of columns: 29\n",
      "Current number of rows: 1996\n"
     ]
    }
   ],
   "source": [
    "# 5. Merging the subtable with the main dataset\n",
    "pivot_table = genre_subtable.melt(id_vars='Title', var_name='Genre')\n",
    "pivot_table = pivot_table[pivot_table['value'] == 1]\n",
    "pivot_table = pivot_table.drop(columns=['value'])\n",
    "pivot_table = pivot_table.pivot_table(index='Title', columns='Genre', aggfunc='size', fill_value=0).reset_index()\n",
    "\n",
    "# 7. Merge the pivot table with the original DataFrame\n",
    "dataset_processed_genre = pd.merge(dataset_processed_genre, pivot_table, on='Title', how='left')\n",
    "dataset_processed_genre.drop(columns=['Genre'], inplace=True)\n",
    "\n",
    "# 8. Checking the dataset shape\n",
    "print('-----------------------------')\n",
    "print(f'Current number of columns: {dataset_processed_genre.shape[1]}')\n",
    "print(f'Current number of rows: {dataset_processed_genre.shape[0]}')"
   ]
  },
  {
   "attachments": {},
   "cell_type": "markdown",
   "metadata": {},
   "source": [
    "### 4. Budget & Income: Turning into USD currency"
   ]
  },
  {
   "cell_type": "code",
   "execution_count": 635,
   "metadata": {},
   "outputs": [
    {
     "name": "stdout",
     "output_type": "stream",
     "text": [
      "Number of movies with unknown budget: 303\n",
      "Number of movies with empty budget: 0\n",
      "Number of movies with unknown income: 142\n",
      "Number of movies with empty budget: 0\n"
     ]
    }
   ],
   "source": [
    "dataset_processed_finance = dataset_processed_genre\n",
    "\n",
    "# Checking for how the finance data looks\n",
    "budget_values = dataset_processed_finance['Budget'].unique()\n",
    "income_values = dataset_processed_finance['Income'].unique()\n",
    "\n",
    "#print(f'Budget values: {budget_values}')\n",
    "#print(f'Income values: {income_values}')\n",
    "\n",
    "'''There are unconsistencies in how the values are writen, extra \n",
    "# spaces etc. Also presence of 'Unknown'''\n",
    "\n",
    "# 2. Getting number of movies with uknown runtime\n",
    "unknown_budget_currency = dataset_processed_finance['Budget'].value_counts()['Unknown']\n",
    "unknown_income_currency = dataset_processed_finance['Income'].value_counts()['Unknown']\n",
    "\n",
    "missing_budget_values = dataset_processed_finance['Budget'].isnull().sum()\n",
    "missing_income_values = dataset_processed_finance['Income'].isnull().sum()\n",
    "\n",
    "print(f'Number of movies with unknown budget: {unknown_budget_currency}')\n",
    "print(f'Number of movies with empty budget: {missing_budget_values}')\n",
    "print(f'Number of movies with unknown income: {unknown_income_currency}')\n",
    "print(f'Number of movies with empty budget: {missing_income_values}')\n"
   ]
  },
  {
   "cell_type": "code",
   "execution_count": 636,
   "metadata": {},
   "outputs": [
    {
     "name": "stdout",
     "output_type": "stream",
     "text": [
      "-----------------------------\n",
      "Current number of columns (Budget): 29\n",
      "Current number of rows (Budget): 1693\n",
      "-----------------------------\n",
      "Current number of columns (Income): 29\n",
      "Current number of rows (Income): 1650\n"
     ]
    }
   ],
   "source": [
    "# 3. Dropping all movies without a budget\n",
    "dataset_processed_finance = dataset_processed_finance.drop(dataset_processed_finance[dataset_processed_finance['Budget'].isin(['Unknown'])].index)\n",
    "\n",
    "# 4. Checking the dataset shape\n",
    "print('-----------------------------')\n",
    "print(f'Current number of columns (Budget): {dataset_processed_finance.shape[1]}')\n",
    "print(f'Current number of rows (Budget): {dataset_processed_finance.shape[0]}')\n",
    "\n",
    "\n",
    "# 5. Dropping all movies without a income\n",
    "dataset_processed_finance = dataset_processed_finance.drop(dataset_processed_finance[dataset_processed_finance['Income'].isin(['Unknown'])].index)\n",
    "\n",
    "# 6. Checking the dataset shape\n",
    "print('-----------------------------')\n",
    "print(f'Current number of columns (Income): {dataset_processed_finance.shape[1]}')\n",
    "print(f'Current number of rows (Income): {dataset_processed_finance.shape[0]}')\n"
   ]
  },
  {
   "cell_type": "code",
   "execution_count": 637,
   "metadata": {},
   "outputs": [],
   "source": [
    "# Conversion function (converts currency and to float)\n",
    "def convert_to_usd(amount):\n",
    "    amount.replace(' ', '')\n",
    "    amount.replace('\\xa0', '')\n",
    "    if amount.startswith('$'):\n",
    "        amount = amount.strip('$').replace(',', '')   # must remove commas\n",
    "        return float(amount)   # convert str into float\n",
    "    elif amount.startswith('€'):\n",
    "        # Exchange rate for EUR to USD\n",
    "        amount = amount.strip('€').replace(',', '')\n",
    "        return float(amount) * 1.06 \n",
    "    elif amount.startswith('¥'):\n",
    "        # Exchange rate for YEN to USD\n",
    "        amount = amount.strip('¥').replace(',', '')\n",
    "        return float(amount) * 0.0075\n",
    "    elif amount.startswith('₹'):\n",
    "        # Exchange rate for RPL to USD\n",
    "        amount = amount.strip('₹').replace(',', '')\n",
    "        return float(amount) * 0.012 \n",
    "    elif amount.startswith('SEK'):\n",
    "        # Exchange rate for SEK to USD\n",
    "        amount = amount.strip('SEK').replace(',', '')\n",
    "        return float(amount) * 0.094\n",
    "    elif amount.startswith('DKK'):\n",
    "        # Exchange rate for RPL to USD\n",
    "        amount = amount.strip('DKK').replace(',', '')\n",
    "        return float(amount) * 0.14\n",
    "    elif amount.startswith('£'):\n",
    "        # Exchange rate for RPL to USD\n",
    "        amount = amount.strip('£').replace(',', '')\n",
    "        return float(amount) * 1.21  \n",
    "    else:\n",
    "        return None"
   ]
  },
  {
   "cell_type": "code",
   "execution_count": 638,
   "metadata": {},
   "outputs": [
    {
     "name": "stdout",
     "output_type": "stream",
     "text": [
      "<class 'pandas.core.frame.DataFrame'>\n",
      "Int64Index: 1650 entries, 0 to 1995\n",
      "Data columns (total 29 columns):\n",
      " #   Column     Non-Null Count  Dtype  \n",
      "---  ------     --------------  -----  \n",
      " 0   Title      1650 non-null   object \n",
      " 1   Rating     1650 non-null   float64\n",
      " 2   Year       1650 non-null   int64  \n",
      " 3   Month      1650 non-null   int64  \n",
      " 4   Runtime    1650 non-null   int64  \n",
      " 5   Directors  1650 non-null   object \n",
      " 6   Stars      1650 non-null   object \n",
      " 7   Budget     1641 non-null   float64\n",
      " 8   Income     1650 non-null   float64\n",
      " 9   Action     1650 non-null   int64  \n",
      " 10  Adventure  1650 non-null   int64  \n",
      " 11  Animation  1650 non-null   int64  \n",
      " 12  Biography  1650 non-null   int64  \n",
      " 13  Comedy     1650 non-null   int64  \n",
      " 14  Crime      1650 non-null   int64  \n",
      " 15  Drama      1650 non-null   int64  \n",
      " 16  Family     1650 non-null   int64  \n",
      " 17  Fantasy    1650 non-null   int64  \n",
      " 18  History    1650 non-null   int64  \n",
      " 19  Horror     1650 non-null   int64  \n",
      " 20  Music      1650 non-null   int64  \n",
      " 21  Musical    1650 non-null   int64  \n",
      " 22  Mystery    1650 non-null   int64  \n",
      " 23  Romance    1650 non-null   int64  \n",
      " 24  Sci-Fi     1650 non-null   int64  \n",
      " 25  Sport      1650 non-null   int64  \n",
      " 26  Thriller   1650 non-null   int64  \n",
      " 27  War        1650 non-null   int64  \n",
      " 28  Western    1650 non-null   int64  \n",
      "dtypes: float64(3), int64(23), object(3)\n",
      "memory usage: 386.7+ KB\n"
     ]
    }
   ],
   "source": [
    "# 7. Applying the conversion function\n",
    "dataset_processed_finance['Budget'] = dataset_processed_finance['Budget'].apply(convert_to_usd)\n",
    "dataset_processed_finance['Income'] = dataset_processed_finance['Income'].apply(convert_to_usd)\n",
    "\n",
    "dataset_processed_finance.info()  # 9 missing values in Budget"
   ]
  },
  {
   "cell_type": "code",
   "execution_count": 639,
   "metadata": {},
   "outputs": [
    {
     "name": "stdout",
     "output_type": "stream",
     "text": [
      "-----------------------------\n",
      "Current number of columns: 29\n",
      "Current number of rows: 1641\n"
     ]
    }
   ],
   "source": [
    "# 8. Removing 9 titles with empty budget values \n",
    "dataset_processed_finance = dataset_processed_finance.dropna(axis=0, subset=['Budget'])\n",
    "\n",
    "# 9. Checking the dataset shape\n",
    "print('-----------------------------')\n",
    "print(f'Current number of columns: {dataset_processed_finance.shape[1]}')\n",
    "print(f'Current number of rows: {dataset_processed_finance.shape[0]}')\n"
   ]
  },
  {
   "cell_type": "code",
   "execution_count": 642,
   "metadata": {},
   "outputs": [
    {
     "data": {
      "text/plain": [
       "<AxesSubplot: >"
      ]
     },
     "execution_count": 642,
     "metadata": {},
     "output_type": "execute_result"
    },
    {
     "data": {
      "image/png": "[encoded data removed]",
      "text/plain": [
       "<Figure size 1440x720 with 2 Axes>"
      ]
     },
     "metadata": {
      "needs_background": "dark"
     },
     "output_type": "display_data"
    }
   ],
   "source": [
    "import seaborn as sns\n",
    "\n",
    "fig, ax = plt.subplots(figsize=(20,10))\n",
    "sns.heatmap(dataset_processed_finance.drop(['Directors', 'Stars'], axis=1).corr(), ax=ax, vmin=-1, vmax=1, center=0, cmap=sns.diverging_palette(10, 220, sep=80, n=7))"
   ]
  },
  {
   "cell_type": "code",
   "execution_count": 640,
   "metadata": {},
   "outputs": [],
   "source": [
    "dataset_processed_1 = dataset_processed_finance"
   ]
  },
  {
   "attachments": {},
   "cell_type": "markdown",
   "metadata": {},
   "source": [
    "## Processing 'Directors' and 'Stars'"
   ]
  },
  {
   "attachments": {},
   "cell_type": "markdown",
   "metadata": {},
   "source": [
    "This part needs more work and additional database. I think these columns will have an effect on the scoring of the movie, but they are strings right now. I think we should:\n",
    "1. Directors column should only contain the first director and ignore all other\n",
    "2. Stars column should be split into 'Lead' and 'Supporting' where the first actor is added to the lead and the second to the supporting\n",
    "3. Replace the directors and actors with their imdb score of how good they are or some popularity score"
   ]
  },
  {
   "cell_type": "code",
   "execution_count": null,
   "metadata": {},
   "outputs": [],
   "source": []
  },
  {
   "cell_type": "code",
   "execution_count": null,
   "metadata": {},
   "outputs": [],
   "source": [
    "dataset_processed_1['Lead'] = dataset_processed_1['Stars'].fillna('').str.split(',', expand=True)[0]\n",
    "dataset_processed_1['Supporting'] = dataset_processed_1['Stars'].fillna('').str.split(',', expand=True)[1]\n",
    "dataset_processed_1.drop(columns=['Stars'], inplace=True)"
   ]
  },
  {
   "cell_type": "code",
   "execution_count": null,
   "metadata": {},
   "outputs": [
    {
     "data": {
      "text/plain": [
       "<AxesSubplot: >"
      ]
     },
     "execution_count": 451,
     "metadata": {},
     "output_type": "execute_result"
    },
    {
     "data": {
      "image/png": "[encoded data removed]",
      "text/plain": [
       "<Figure size 1440x720 with 2 Axes>"
      ]
     },
     "metadata": {
      "needs_background": "dark"
     },
     "output_type": "display_data"
    }
   ],
   "source": [
    "import seaborn as sns\n",
    "\n",
    "fig, ax = plt.subplots(figsize=(20,10))\n",
    "sns.heatmap(dataset_w_finances.drop(['Directors', 'Lead', 'Supporting'], axis=1).corr(), ax=ax, vmin=-1, vmax=1, center=0, cmap=sns.diverging_palette(10, 220, sep=80, n=7))"
   ]
  },
  {
   "cell_type": "code",
   "execution_count": null,
   "metadata": {},
   "outputs": [
    {
     "data": {
      "image/png": "[encoded data removed]",
      "text/plain": [
       "<Figure size 1440x1080 with 4 Axes>"
      ]
     },
     "metadata": {
      "needs_background": "dark"
     },
     "output_type": "display_data"
    }
   ],
   "source": [
    "params = {'ytick.color' : 'w',\n",
    "          'xtick.color' : 'w',\n",
    "          'axes.labelcolor' : 'w',\n",
    "          'axes.edgecolor' : 'w', \n",
    "          'text.color': 'w'}\n",
    "plt.rcParams.update(params)\n",
    "\n",
    "dataset_w_finances[['Rating', 'Runtime', 'Budget', 'Income']].hist(bins=50, figsize=(20, 15))\n",
    "plt.show()"
   ]
  },
  {
   "cell_type": "code",
   "execution_count": null,
   "metadata": {},
   "outputs": [
    {
     "name": "stdout",
     "output_type": "stream",
     "text": [
      "<class 'pandas.core.frame.DataFrame'>\n",
      "Int64Index: 1636 entries, 0 to 1635\n",
      "Data columns (total 27 columns):\n",
      " #   Column     Non-Null Count  Dtype  \n",
      "---  ------     --------------  -----  \n",
      " 0   Title      1636 non-null   object \n",
      " 1   Rating     1636 non-null   float64\n",
      " 2   Year       1636 non-null   int64  \n",
      " 3   Month      1636 non-null   int64  \n",
      " 4   Runtime    1636 non-null   int64  \n",
      " 5   Budget     1636 non-null   float64\n",
      " 6   Income     1636 non-null   float64\n",
      " 7   Action     1636 non-null   int64  \n",
      " 8   Adventure  1636 non-null   int64  \n",
      " 9   Animation  1636 non-null   int64  \n",
      " 10  Biography  1636 non-null   int64  \n",
      " 11  Comedy     1636 non-null   int64  \n",
      " 12  Crime      1636 non-null   int64  \n",
      " 13  Drama      1636 non-null   int64  \n",
      " 14  Family     1636 non-null   int64  \n",
      " 15  Fantasy    1636 non-null   int64  \n",
      " 16  History    1636 non-null   int64  \n",
      " 17  Horror     1636 non-null   int64  \n",
      " 18  Music      1636 non-null   int64  \n",
      " 19  Musical    1636 non-null   int64  \n",
      " 20  Mystery    1636 non-null   int64  \n",
      " 21  Romance    1636 non-null   int64  \n",
      " 22  Sci-Fi     1636 non-null   int64  \n",
      " 23  Sport      1636 non-null   int64  \n",
      " 24  Thriller   1636 non-null   int64  \n",
      " 25  War        1636 non-null   int64  \n",
      " 26  Western    1636 non-null   int64  \n",
      "dtypes: float64(3), int64(23), object(1)\n",
      "memory usage: 357.9+ KB\n",
      "None\n"
     ]
    }
   ],
   "source": [
    "dataset_w_finances = dataset_w_finances.drop(['Directors', 'Lead', 'Supporting', 'Country_of_origin'], axis=1)\n",
    "print(dataset_w_finances.info())"
   ]
  },
  {
   "cell_type": "code",
   "execution_count": null,
   "metadata": {},
   "outputs": [],
   "source": [
    "import numpy as np\n",
    "\n",
    "criteria = [dataset_w_finances['Rating'].between(0, 3), dataset_w_finances['Rating'].between(4, 6), dataset_w_finances['Rating'].between(7, 8), dataset_w_finances['Rating'].between(9, 10)]\n",
    "values = [0, 1, 2, 3]\n",
    "\n",
    "dataset_w_finances['Target'] = np.select(criteria, values, 0)\n",
    "dataset_w_finances.tail()\n",
    "dataset_w_finances = dataset_w_finances.drop('Rating',axis=1)"
   ]
  },
  {
   "cell_type": "code",
   "execution_count": null,
   "metadata": {},
   "outputs": [],
   "source": [
    "X, y = dataset_w_finances.iloc[:,1:], dataset_w_finances['Target']\n",
    "cols = list(X.columns)\n",
    "X_train, X_test, y_train, y_test = train_test_split(X, y, test_size=.2, random_state=20)"
   ]
  },
  {
   "cell_type": "code",
   "execution_count": null,
   "metadata": {},
   "outputs": [
    {
     "name": "stdout",
     "output_type": "stream",
     "text": [
      "Baseline score RMSE:  0.89\n"
     ]
    }
   ],
   "source": [
    "y_pred_mean = [y_train.mean()] * len(y_test)\n",
    "\n",
    "print(\"Baseline score RMSE: \",'{0:0.2f}'.format(np.sqrt(metrics.mean_squared_error(y_test, y_pred_mean))))"
   ]
  },
  {
   "cell_type": "code",
   "execution_count": null,
   "metadata": {},
   "outputs": [],
   "source": [
    "KNN = KNeighborsClassifier()\n",
    "Extra = ExtraTreesClassifier()\n",
    "GD = GradientBoostingClassifier()\n",
    "rf = RandomForestClassifier(n_estimators=100)"
   ]
  },
  {
   "cell_type": "code",
   "execution_count": null,
   "metadata": {},
   "outputs": [
    {
     "name": "stdout",
     "output_type": "stream",
     "text": [
      "GradientBoostingClassifier: : 100.0\n"
     ]
    }
   ],
   "source": [
    "GD.fit(X_train, y_train)\n",
    "gd = GD.score(X_test, y_test)\n",
    "print(f'GradientBoostingClassifier: :',gd*100)"
   ]
  },
  {
   "cell_type": "code",
   "execution_count": null,
   "metadata": {},
   "outputs": [
    {
     "name": "stdout",
     "output_type": "stream",
     "text": [
      "Random forest: 100.0\n"
     ]
    }
   ],
   "source": [
    "rf.fit(X_train, y_train)\n",
    "RF = rf.score(X_test, y_test)\n",
    "print(f'Random forest:', RF*100)"
   ]
  },
  {
   "cell_type": "code",
   "execution_count": null,
   "metadata": {},
   "outputs": [
    {
     "name": "stdout",
     "output_type": "stream",
     "text": [
      "Extratrees:  100.0\n"
     ]
    }
   ],
   "source": [
    "Extra.fit(X_train, y_train)\n",
    "extra = Extra.score(X_test, y_test)\n",
    "print(f'Extratrees: ',extra*100)"
   ]
  },
  {
   "cell_type": "code",
   "execution_count": null,
   "metadata": {},
   "outputs": [
    {
     "data": {
      "text/plain": [
       "1636"
      ]
     },
     "execution_count": 461,
     "metadata": {},
     "output_type": "execute_result"
    }
   ],
   "source": [
    "len(dataset_w_finances)"
   ]
  },
  {
   "attachments": {},
   "cell_type": "markdown",
   "metadata": {},
   "source": [
    "Scores are bad, we must add the actors and directors. Assigning IDs to actors (0-1000) and dictors (2000-3000). "
   ]
  },
  {
   "cell_type": "code",
   "execution_count": null,
   "metadata": {},
   "outputs": [
    {
     "ename": "NameError",
     "evalue": "name 'y_pred' is not defined",
     "output_type": "error",
     "traceback": [
      "\u001b[0;31m---------------------------------------------------------------------------\u001b[0m",
      "\u001b[0;31mNameError\u001b[0m                                 Traceback (most recent call last)",
      "\u001b[1;32m/Users/vedabojar/Desktop/DataScience/06_datascience_projekt/ds22_project/poc.ipynb Cell 42\u001b[0m in \u001b[0;36m<cell line: 3>\u001b[0;34m()\u001b[0m\n\u001b[1;32m      <a href='vscode-notebook-cell:/Users/vedabojar/Desktop/DataScience/06_datascience_projekt/ds22_project/poc.ipynb#Y112sZmlsZQ%3D%3D?line=0'>1</a>\u001b[0m \u001b[39mfrom\u001b[39;00m \u001b[39msklearn\u001b[39;00m \u001b[39mimport\u001b[39;00m metrics\n\u001b[0;32m----> <a href='vscode-notebook-cell:/Users/vedabojar/Desktop/DataScience/06_datascience_projekt/ds22_project/poc.ipynb#Y112sZmlsZQ%3D%3D?line=2'>3</a>\u001b[0m \u001b[39mprint\u001b[39m(metrics\u001b[39m.\u001b[39mclassification_report(y_test, y_pred))\n",
      "\u001b[0;31mNameError\u001b[0m: name 'y_pred' is not defined"
     ]
    }
   ],
   "source": [
    "from sklearn import metrics\n",
    "\n",
    "print(metrics.classification_report(y_test, y_pred))"
   ]
  }
 ],
 "metadata": {
  "kernelspec": {
   "display_name": "base",
   "language": "python",
   "name": "python3"
  },
  "language_info": {
   "codemirror_mode": {
    "name": "ipython",
    "version": 3
   },
   "file_extension": ".py",
   "mimetype": "text/x-python",
   "name": "python",
   "nbconvert_exporter": "python",
   "pygments_lexer": "ipython3",
   "version": "3.9.12"
  },
  "orig_nbformat": 4,
  "vscode": {
   "interpreter": {
    "hash": "c0de92a10c1f65e53f9acff1f0bafd09b320a4aed9d91aa143eea6431dc87452"
   }
  }
 },
 "nbformat": 4,
 "nbformat_minor": 2
}
