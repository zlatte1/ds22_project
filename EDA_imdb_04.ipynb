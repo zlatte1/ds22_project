{
 "cells": [
  {
   "cell_type": "markdown",
   "id": "bcef7e23",
   "metadata": {},
   "source": [
    "### Exploratory Data Analysis"
   ]
  },
  {
   "cell_type": "markdown",
   "id": "8b7f865f",
   "metadata": {},
   "source": [
    "EDA on IMDB dataset\n",
    "21 march 2023, tisdag\n",
    "Dataset link from kaggle. \n",
    "https://www.kaggle.com/datasets/georgescutelnicu/top-100-popular-movies-from-2003-to-2022-imdb"
   ]
  },
  {
   "cell_type": "code",
   "execution_count": 1,
   "id": "654b32ab",
   "metadata": {},
   "outputs": [],
   "source": [
    "import pandas as pd\n",
    "import numpy as np\n",
    "import seaborn as sns\n",
    "import matplotlib.pyplot as plt"
   ]
  },
  {
   "cell_type": "code",
   "execution_count": 2,
   "id": "c33076f0",
   "metadata": {},
   "outputs": [],
   "source": [
    "df = pd.read_csv('/Users/ecombo/Desktop/DS_project/data/movies.csv')"
   ]
  },
  {
   "cell_type": "code",
   "execution_count": 3,
   "id": "21acd7d3",
   "metadata": {},
   "outputs": [
    {
     "data": {
      "text/html": [
       "<div>\n",
       "<style scoped>\n",
       "    .dataframe tbody tr th:only-of-type {\n",
       "        vertical-align: middle;\n",
       "    }\n",
       "\n",
       "    .dataframe tbody tr th {\n",
       "        vertical-align: top;\n",
       "    }\n",
       "\n",
       "    .dataframe thead th {\n",
       "        text-align: right;\n",
       "    }\n",
       "</style>\n",
       "<table border=\"1\" class=\"dataframe\">\n",
       "  <thead>\n",
       "    <tr style=\"text-align: right;\">\n",
       "      <th></th>\n",
       "      <th>Title</th>\n",
       "      <th>Rating</th>\n",
       "      <th>Year</th>\n",
       "      <th>Month</th>\n",
       "      <th>Certificate</th>\n",
       "      <th>Runtime</th>\n",
       "      <th>Directors</th>\n",
       "      <th>Stars</th>\n",
       "      <th>Genre</th>\n",
       "      <th>Filming_location</th>\n",
       "      <th>Budget</th>\n",
       "      <th>Income</th>\n",
       "      <th>Country_of_origin</th>\n",
       "    </tr>\n",
       "  </thead>\n",
       "  <tbody>\n",
       "    <tr>\n",
       "      <th>0</th>\n",
       "      <td>Avatar: The Way of Water</td>\n",
       "      <td>7.8</td>\n",
       "      <td>2022</td>\n",
       "      <td>December</td>\n",
       "      <td>PG-13</td>\n",
       "      <td>192</td>\n",
       "      <td>James Cameron</td>\n",
       "      <td>Sam Worthington, Zoe Saldana, Sigourney Weaver...</td>\n",
       "      <td>Action, Adventure, Fantasy</td>\n",
       "      <td>New Zealand</td>\n",
       "      <td>$350,000,000</td>\n",
       "      <td>$2,267,946,983</td>\n",
       "      <td>United States</td>\n",
       "    </tr>\n",
       "    <tr>\n",
       "      <th>1</th>\n",
       "      <td>Guillermo del Toro's Pinocchio</td>\n",
       "      <td>7.6</td>\n",
       "      <td>2022</td>\n",
       "      <td>December</td>\n",
       "      <td>PG</td>\n",
       "      <td>117</td>\n",
       "      <td>Guillermo del Toro, Mark Gustafson</td>\n",
       "      <td>Ewan McGregor, David Bradley, Gregory Mann, Bu...</td>\n",
       "      <td>Animation, Drama, Family</td>\n",
       "      <td>USA</td>\n",
       "      <td>$35,000,000</td>\n",
       "      <td>$108,967</td>\n",
       "      <td>United States, Mexico, France</td>\n",
       "    </tr>\n",
       "    <tr>\n",
       "      <th>2</th>\n",
       "      <td>Bullet Train</td>\n",
       "      <td>7.3</td>\n",
       "      <td>2022</td>\n",
       "      <td>August</td>\n",
       "      <td>R</td>\n",
       "      <td>127</td>\n",
       "      <td>David Leitch</td>\n",
       "      <td>Brad Pitt, Joey King, Aaron Taylor Johnson, Br...</td>\n",
       "      <td>Action, Comedy, Thriller</td>\n",
       "      <td>Japan</td>\n",
       "      <td>$85,900,000</td>\n",
       "      <td>$239,268,602</td>\n",
       "      <td>Japan, United States</td>\n",
       "    </tr>\n",
       "    <tr>\n",
       "      <th>3</th>\n",
       "      <td>The Banshees of Inisherin</td>\n",
       "      <td>7.8</td>\n",
       "      <td>2022</td>\n",
       "      <td>November</td>\n",
       "      <td>R</td>\n",
       "      <td>114</td>\n",
       "      <td>Martin McDonagh</td>\n",
       "      <td>Colin Farrell, Brendan Gleeson, Kerry Condon, ...</td>\n",
       "      <td>Comedy, Drama</td>\n",
       "      <td>Ireland</td>\n",
       "      <td>Unknown</td>\n",
       "      <td>$19,720,823</td>\n",
       "      <td>Ireland, United Kingdom, United States</td>\n",
       "    </tr>\n",
       "    <tr>\n",
       "      <th>4</th>\n",
       "      <td>M3gan</td>\n",
       "      <td>6.4</td>\n",
       "      <td>2022</td>\n",
       "      <td>December</td>\n",
       "      <td>PG-13</td>\n",
       "      <td>102</td>\n",
       "      <td>Gerard Johnstone</td>\n",
       "      <td>Jenna Davis, Amie Donald, Allison Williams, Vi...</td>\n",
       "      <td>Horror, Sci-Fi, Thriller</td>\n",
       "      <td>New Zealand</td>\n",
       "      <td>$12,000,000</td>\n",
       "      <td>$171,253,910</td>\n",
       "      <td>United States</td>\n",
       "    </tr>\n",
       "  </tbody>\n",
       "</table>\n",
       "</div>"
      ],
      "text/plain": [
       "                            Title  Rating  Year     Month Certificate Runtime  \\\n",
       "0        Avatar: The Way of Water     7.8  2022  December       PG-13     192   \n",
       "1  Guillermo del Toro's Pinocchio     7.6  2022  December          PG     117   \n",
       "2                    Bullet Train     7.3  2022    August           R     127   \n",
       "3       The Banshees of Inisherin     7.8  2022  November           R     114   \n",
       "4                           M3gan     6.4  2022  December       PG-13     102   \n",
       "\n",
       "                            Directors  \\\n",
       "0                       James Cameron   \n",
       "1  Guillermo del Toro, Mark Gustafson   \n",
       "2                        David Leitch   \n",
       "3                     Martin McDonagh   \n",
       "4                    Gerard Johnstone   \n",
       "\n",
       "                                               Stars  \\\n",
       "0  Sam Worthington, Zoe Saldana, Sigourney Weaver...   \n",
       "1  Ewan McGregor, David Bradley, Gregory Mann, Bu...   \n",
       "2  Brad Pitt, Joey King, Aaron Taylor Johnson, Br...   \n",
       "3  Colin Farrell, Brendan Gleeson, Kerry Condon, ...   \n",
       "4  Jenna Davis, Amie Donald, Allison Williams, Vi...   \n",
       "\n",
       "                        Genre Filming_location         Budget  \\\n",
       "0  Action, Adventure, Fantasy      New Zealand  $350,000,000    \n",
       "1    Animation, Drama, Family              USA   $35,000,000    \n",
       "2    Action, Comedy, Thriller            Japan   $85,900,000    \n",
       "3               Comedy, Drama          Ireland        Unknown   \n",
       "4    Horror, Sci-Fi, Thriller      New Zealand   $12,000,000    \n",
       "\n",
       "            Income                       Country_of_origin  \n",
       "0  $2,267,946,983                            United States  \n",
       "1        $108,967            United States, Mexico, France  \n",
       "2    $239,268,602                     Japan, United States  \n",
       "3     $19,720,823   Ireland, United Kingdom, United States  \n",
       "4    $171,253,910                            United States  "
      ]
     },
     "execution_count": 3,
     "metadata": {},
     "output_type": "execute_result"
    }
   ],
   "source": [
    "df.head(5)"
   ]
  },
  {
   "cell_type": "code",
   "execution_count": 4,
   "id": "0e03ec55",
   "metadata": {},
   "outputs": [
    {
     "data": {
      "text/html": [
       "<div>\n",
       "<style scoped>\n",
       "    .dataframe tbody tr th:only-of-type {\n",
       "        vertical-align: middle;\n",
       "    }\n",
       "\n",
       "    .dataframe tbody tr th {\n",
       "        vertical-align: top;\n",
       "    }\n",
       "\n",
       "    .dataframe thead th {\n",
       "        text-align: right;\n",
       "    }\n",
       "</style>\n",
       "<table border=\"1\" class=\"dataframe\">\n",
       "  <thead>\n",
       "    <tr style=\"text-align: right;\">\n",
       "      <th></th>\n",
       "      <th>Rating</th>\n",
       "      <th>Year</th>\n",
       "    </tr>\n",
       "  </thead>\n",
       "  <tbody>\n",
       "    <tr>\n",
       "      <th>count</th>\n",
       "      <td>1999.000000</td>\n",
       "      <td>2000.000000</td>\n",
       "    </tr>\n",
       "    <tr>\n",
       "      <th>mean</th>\n",
       "      <td>6.661631</td>\n",
       "      <td>2012.500000</td>\n",
       "    </tr>\n",
       "    <tr>\n",
       "      <th>std</th>\n",
       "      <td>0.911507</td>\n",
       "      <td>5.767723</td>\n",
       "    </tr>\n",
       "    <tr>\n",
       "      <th>min</th>\n",
       "      <td>1.900000</td>\n",
       "      <td>2003.000000</td>\n",
       "    </tr>\n",
       "    <tr>\n",
       "      <th>25%</th>\n",
       "      <td>6.100000</td>\n",
       "      <td>2007.750000</td>\n",
       "    </tr>\n",
       "    <tr>\n",
       "      <th>50%</th>\n",
       "      <td>6.700000</td>\n",
       "      <td>2012.500000</td>\n",
       "    </tr>\n",
       "    <tr>\n",
       "      <th>75%</th>\n",
       "      <td>7.300000</td>\n",
       "      <td>2017.250000</td>\n",
       "    </tr>\n",
       "    <tr>\n",
       "      <th>max</th>\n",
       "      <td>9.000000</td>\n",
       "      <td>2022.000000</td>\n",
       "    </tr>\n",
       "  </tbody>\n",
       "</table>\n",
       "</div>"
      ],
      "text/plain": [
       "            Rating         Year\n",
       "count  1999.000000  2000.000000\n",
       "mean      6.661631  2012.500000\n",
       "std       0.911507     5.767723\n",
       "min       1.900000  2003.000000\n",
       "25%       6.100000  2007.750000\n",
       "50%       6.700000  2012.500000\n",
       "75%       7.300000  2017.250000\n",
       "max       9.000000  2022.000000"
      ]
     },
     "execution_count": 4,
     "metadata": {},
     "output_type": "execute_result"
    }
   ],
   "source": [
    "df.describe()"
   ]
  },
  {
   "cell_type": "code",
   "execution_count": 5,
   "id": "93060c99",
   "metadata": {},
   "outputs": [
    {
     "name": "stdout",
     "output_type": "stream",
     "text": [
      "<class 'pandas.core.frame.DataFrame'>\n",
      "RangeIndex: 2000 entries, 0 to 1999\n",
      "Data columns (total 13 columns):\n",
      " #   Column             Non-Null Count  Dtype  \n",
      "---  ------             --------------  -----  \n",
      " 0   Title              2000 non-null   object \n",
      " 1   Rating             1999 non-null   float64\n",
      " 2   Year               2000 non-null   int64  \n",
      " 3   Month              2000 non-null   object \n",
      " 4   Certificate        1966 non-null   object \n",
      " 5   Runtime            2000 non-null   object \n",
      " 6   Directors          2000 non-null   object \n",
      " 7   Stars              2000 non-null   object \n",
      " 8   Genre              2000 non-null   object \n",
      " 9   Filming_location   2000 non-null   object \n",
      " 10  Budget             2000 non-null   object \n",
      " 11  Income             2000 non-null   object \n",
      " 12  Country_of_origin  2000 non-null   object \n",
      "dtypes: float64(1), int64(1), object(11)\n",
      "memory usage: 203.2+ KB\n"
     ]
    }
   ],
   "source": [
    "df.info()"
   ]
  },
  {
   "cell_type": "code",
   "execution_count": 6,
   "id": "0d860931",
   "metadata": {},
   "outputs": [
    {
     "data": {
      "text/plain": [
       "(2000, 13)"
      ]
     },
     "execution_count": 6,
     "metadata": {},
     "output_type": "execute_result"
    }
   ],
   "source": [
    "df.shape"
   ]
  },
  {
   "cell_type": "code",
   "execution_count": 7,
   "id": "2fda4bc9",
   "metadata": {},
   "outputs": [],
   "source": [
    "#drop duplicates and replace with 0 \n",
    "df.replace(np.nan,'0',inplace = True)"
   ]
  },
  {
   "cell_type": "code",
   "execution_count": 8,
   "id": "56319d6c",
   "metadata": {
    "scrolled": false
   },
   "outputs": [
    {
     "data": {
      "text/plain": [
       "Title                0\n",
       "Rating               0\n",
       "Year                 0\n",
       "Month                0\n",
       "Certificate          0\n",
       "Runtime              0\n",
       "Directors            0\n",
       "Stars                0\n",
       "Genre                0\n",
       "Filming_location     0\n",
       "Budget               0\n",
       "Income               0\n",
       "Country_of_origin    0\n",
       "dtype: int64"
      ]
     },
     "execution_count": 8,
     "metadata": {},
     "output_type": "execute_result"
    }
   ],
   "source": [
    "df.isnull().sum()"
   ]
  },
  {
   "cell_type": "code",
   "execution_count": 9,
   "id": "d3ae9dc1",
   "metadata": {},
   "outputs": [],
   "source": [
    "# There is a movie without rating! Lets find out\n",
    "#movie_wo_rating = df[df['Rating'].isna()]['Title']\n",
    "#print(f' Movies with no rating {movie_wo_rating}')"
   ]
  },
  {
   "cell_type": "code",
   "execution_count": 18,
   "id": "124f8062",
   "metadata": {},
   "outputs": [
    {
     "data": {
      "text/html": [
       "<div>\n",
       "<style scoped>\n",
       "    .dataframe tbody tr th:only-of-type {\n",
       "        vertical-align: middle;\n",
       "    }\n",
       "\n",
       "    .dataframe tbody tr th {\n",
       "        vertical-align: top;\n",
       "    }\n",
       "\n",
       "    .dataframe thead th {\n",
       "        text-align: right;\n",
       "    }\n",
       "</style>\n",
       "<table border=\"1\" class=\"dataframe\">\n",
       "  <thead>\n",
       "    <tr style=\"text-align: right;\">\n",
       "      <th></th>\n",
       "      <th>Title</th>\n",
       "      <th>Rating</th>\n",
       "      <th>Year</th>\n",
       "      <th>Month</th>\n",
       "      <th>Runtime</th>\n",
       "      <th>Directors</th>\n",
       "      <th>Stars</th>\n",
       "      <th>Genre</th>\n",
       "      <th>Filming_location</th>\n",
       "      <th>Budget</th>\n",
       "      <th>Income</th>\n",
       "      <th>Country_of_origin</th>\n",
       "    </tr>\n",
       "  </thead>\n",
       "  <tbody>\n",
       "    <tr>\n",
       "      <th>0</th>\n",
       "      <td>Avatar: The Way of Water</td>\n",
       "      <td>7.8</td>\n",
       "      <td>2022</td>\n",
       "      <td>December</td>\n",
       "      <td>192</td>\n",
       "      <td>James Cameron</td>\n",
       "      <td>Sam Worthington, Zoe Saldana, Sigourney Weaver...</td>\n",
       "      <td>Action, Adventure, Fantasy</td>\n",
       "      <td>New Zealand</td>\n",
       "      <td>$350,000,000</td>\n",
       "      <td>$2,267,946,983</td>\n",
       "      <td>United States</td>\n",
       "    </tr>\n",
       "    <tr>\n",
       "      <th>1</th>\n",
       "      <td>Guillermo del Toro's Pinocchio</td>\n",
       "      <td>7.6</td>\n",
       "      <td>2022</td>\n",
       "      <td>December</td>\n",
       "      <td>117</td>\n",
       "      <td>Guillermo del Toro, Mark Gustafson</td>\n",
       "      <td>Ewan McGregor, David Bradley, Gregory Mann, Bu...</td>\n",
       "      <td>Animation, Drama, Family</td>\n",
       "      <td>USA</td>\n",
       "      <td>$35,000,000</td>\n",
       "      <td>$108,967</td>\n",
       "      <td>United States, Mexico, France</td>\n",
       "    </tr>\n",
       "    <tr>\n",
       "      <th>2</th>\n",
       "      <td>Bullet Train</td>\n",
       "      <td>7.3</td>\n",
       "      <td>2022</td>\n",
       "      <td>August</td>\n",
       "      <td>127</td>\n",
       "      <td>David Leitch</td>\n",
       "      <td>Brad Pitt, Joey King, Aaron Taylor Johnson, Br...</td>\n",
       "      <td>Action, Comedy, Thriller</td>\n",
       "      <td>Japan</td>\n",
       "      <td>$85,900,000</td>\n",
       "      <td>$239,268,602</td>\n",
       "      <td>Japan, United States</td>\n",
       "    </tr>\n",
       "    <tr>\n",
       "      <th>3</th>\n",
       "      <td>The Banshees of Inisherin</td>\n",
       "      <td>7.8</td>\n",
       "      <td>2022</td>\n",
       "      <td>November</td>\n",
       "      <td>114</td>\n",
       "      <td>Martin McDonagh</td>\n",
       "      <td>Colin Farrell, Brendan Gleeson, Kerry Condon, ...</td>\n",
       "      <td>Comedy, Drama</td>\n",
       "      <td>Ireland</td>\n",
       "      <td>Unknown</td>\n",
       "      <td>$19,720,823</td>\n",
       "      <td>Ireland, United Kingdom, United States</td>\n",
       "    </tr>\n",
       "    <tr>\n",
       "      <th>4</th>\n",
       "      <td>M3gan</td>\n",
       "      <td>6.4</td>\n",
       "      <td>2022</td>\n",
       "      <td>December</td>\n",
       "      <td>102</td>\n",
       "      <td>Gerard Johnstone</td>\n",
       "      <td>Jenna Davis, Amie Donald, Allison Williams, Vi...</td>\n",
       "      <td>Horror, Sci-Fi, Thriller</td>\n",
       "      <td>New Zealand</td>\n",
       "      <td>$12,000,000</td>\n",
       "      <td>$171,253,910</td>\n",
       "      <td>United States</td>\n",
       "    </tr>\n",
       "    <tr>\n",
       "      <th>...</th>\n",
       "      <td>...</td>\n",
       "      <td>...</td>\n",
       "      <td>...</td>\n",
       "      <td>...</td>\n",
       "      <td>...</td>\n",
       "      <td>...</td>\n",
       "      <td>...</td>\n",
       "      <td>...</td>\n",
       "      <td>...</td>\n",
       "      <td>...</td>\n",
       "      <td>...</td>\n",
       "      <td>...</td>\n",
       "    </tr>\n",
       "    <tr>\n",
       "      <th>1995</th>\n",
       "      <td>A Tale of Two Sisters</td>\n",
       "      <td>7.1</td>\n",
       "      <td>2003</td>\n",
       "      <td>June</td>\n",
       "      <td>114</td>\n",
       "      <td>Jee woon Kim</td>\n",
       "      <td>Lim Soo jung, Yum Jung ah, Kim Kap su, Moon Ge...</td>\n",
       "      <td>Drama, Horror, Mystery</td>\n",
       "      <td>South Korea</td>\n",
       "      <td>Unknown</td>\n",
       "      <td>$1,062,878</td>\n",
       "      <td>South Korea</td>\n",
       "    </tr>\n",
       "    <tr>\n",
       "      <th>1996</th>\n",
       "      <td>Lara Croft Tomb Raider: The Cradle of Life</td>\n",
       "      <td>5.5</td>\n",
       "      <td>2003</td>\n",
       "      <td>July</td>\n",
       "      <td>117</td>\n",
       "      <td>Jan de Bont</td>\n",
       "      <td>Angelina Jolie, Gerard Butler, Chris Barrie, C...</td>\n",
       "      <td>Action, Adventure, Fantasy</td>\n",
       "      <td>Greece</td>\n",
       "      <td>$95,000,000</td>\n",
       "      <td>$160,099,222</td>\n",
       "      <td>United States, Germany, Japan, United Kingdom,...</td>\n",
       "    </tr>\n",
       "    <tr>\n",
       "      <th>1997</th>\n",
       "      <td>Gothika</td>\n",
       "      <td>5.8</td>\n",
       "      <td>2003</td>\n",
       "      <td>November</td>\n",
       "      <td>98</td>\n",
       "      <td>Mathieu Kassovitz</td>\n",
       "      <td>Halle Berry, Pen lope Cruz, Robert Downey Jr ,...</td>\n",
       "      <td>Horror, Mystery, Thriller</td>\n",
       "      <td>Canada</td>\n",
       "      <td>$40,000,000</td>\n",
       "      <td>$141,591,324</td>\n",
       "      <td>United States, France, Canada, Spain</td>\n",
       "    </tr>\n",
       "    <tr>\n",
       "      <th>1998</th>\n",
       "      <td>Ong-Bak: The Thai Warrior</td>\n",
       "      <td>7.1</td>\n",
       "      <td>2003</td>\n",
       "      <td>February</td>\n",
       "      <td>105</td>\n",
       "      <td>Prachya Pinkaew</td>\n",
       "      <td>Tony Jaa, Phetthai Vongkumlao, Pumwaree Yodkam...</td>\n",
       "      <td>Action, Crime, Thriller</td>\n",
       "      <td>Thailand</td>\n",
       "      <td>Unknown</td>\n",
       "      <td>$20,235,426</td>\n",
       "      <td>Thailand, France, Hong Kong</td>\n",
       "    </tr>\n",
       "    <tr>\n",
       "      <th>1999</th>\n",
       "      <td>Open Water</td>\n",
       "      <td>5.8</td>\n",
       "      <td>2003</td>\n",
       "      <td>August</td>\n",
       "      <td>79</td>\n",
       "      <td>Chris Kentis</td>\n",
       "      <td>Blanchard Ryan, Daniel Travis, Saul Stein, Mic...</td>\n",
       "      <td>Adventure, Drama, Horror</td>\n",
       "      <td>Bahamas</td>\n",
       "      <td>$500,000</td>\n",
       "      <td>$54,683,487</td>\n",
       "      <td>United States</td>\n",
       "    </tr>\n",
       "  </tbody>\n",
       "</table>\n",
       "<p>2000 rows × 12 columns</p>\n",
       "</div>"
      ],
      "text/plain": [
       "                                           Title Rating  Year     Month  \\\n",
       "0                       Avatar: The Way of Water    7.8  2022  December   \n",
       "1                 Guillermo del Toro's Pinocchio    7.6  2022  December   \n",
       "2                                   Bullet Train    7.3  2022    August   \n",
       "3                      The Banshees of Inisherin    7.8  2022  November   \n",
       "4                                          M3gan    6.4  2022  December   \n",
       "...                                          ...    ...   ...       ...   \n",
       "1995                       A Tale of Two Sisters    7.1  2003      June   \n",
       "1996  Lara Croft Tomb Raider: The Cradle of Life    5.5  2003      July   \n",
       "1997                                     Gothika    5.8  2003  November   \n",
       "1998                   Ong-Bak: The Thai Warrior    7.1  2003  February   \n",
       "1999                                  Open Water    5.8  2003    August   \n",
       "\n",
       "     Runtime                           Directors  \\\n",
       "0        192                       James Cameron   \n",
       "1        117  Guillermo del Toro, Mark Gustafson   \n",
       "2        127                        David Leitch   \n",
       "3        114                     Martin McDonagh   \n",
       "4        102                    Gerard Johnstone   \n",
       "...      ...                                 ...   \n",
       "1995     114                        Jee woon Kim   \n",
       "1996     117                         Jan de Bont   \n",
       "1997      98                   Mathieu Kassovitz   \n",
       "1998     105                     Prachya Pinkaew   \n",
       "1999      79                        Chris Kentis   \n",
       "\n",
       "                                                  Stars  \\\n",
       "0     Sam Worthington, Zoe Saldana, Sigourney Weaver...   \n",
       "1     Ewan McGregor, David Bradley, Gregory Mann, Bu...   \n",
       "2     Brad Pitt, Joey King, Aaron Taylor Johnson, Br...   \n",
       "3     Colin Farrell, Brendan Gleeson, Kerry Condon, ...   \n",
       "4     Jenna Davis, Amie Donald, Allison Williams, Vi...   \n",
       "...                                                 ...   \n",
       "1995  Lim Soo jung, Yum Jung ah, Kim Kap su, Moon Ge...   \n",
       "1996  Angelina Jolie, Gerard Butler, Chris Barrie, C...   \n",
       "1997  Halle Berry, Pen lope Cruz, Robert Downey Jr ,...   \n",
       "1998  Tony Jaa, Phetthai Vongkumlao, Pumwaree Yodkam...   \n",
       "1999  Blanchard Ryan, Daniel Travis, Saul Stein, Mic...   \n",
       "\n",
       "                           Genre Filming_location         Budget  \\\n",
       "0     Action, Adventure, Fantasy      New Zealand  $350,000,000    \n",
       "1       Animation, Drama, Family              USA   $35,000,000    \n",
       "2       Action, Comedy, Thriller            Japan   $85,900,000    \n",
       "3                  Comedy, Drama          Ireland        Unknown   \n",
       "4       Horror, Sci-Fi, Thriller      New Zealand   $12,000,000    \n",
       "...                          ...              ...            ...   \n",
       "1995      Drama, Horror, Mystery      South Korea        Unknown   \n",
       "1996  Action, Adventure, Fantasy           Greece   $95,000,000    \n",
       "1997   Horror, Mystery, Thriller           Canada   $40,000,000    \n",
       "1998     Action, Crime, Thriller         Thailand        Unknown   \n",
       "1999    Adventure, Drama, Horror          Bahamas      $500,000    \n",
       "\n",
       "               Income                                  Country_of_origin  \n",
       "0     $2,267,946,983                                       United States  \n",
       "1           $108,967                       United States, Mexico, France  \n",
       "2       $239,268,602                                Japan, United States  \n",
       "3        $19,720,823              Ireland, United Kingdom, United States  \n",
       "4       $171,253,910                                       United States  \n",
       "...               ...                                                ...  \n",
       "1995      $1,062,878                                         South Korea  \n",
       "1996    $160,099,222   United States, Germany, Japan, United Kingdom,...  \n",
       "1997    $141,591,324                United States, France, Canada, Spain  \n",
       "1998     $20,235,426                         Thailand, France, Hong Kong  \n",
       "1999     $54,683,487                                       United States  \n",
       "\n",
       "[2000 rows x 12 columns]"
      ]
     },
     "execution_count": 18,
     "metadata": {},
     "output_type": "execute_result"
    }
   ],
   "source": [
    "# Drop all na values from 'rating'\n",
    "df.dropna(subset=['Rating'], inplace=False)"
   ]
  },
  {
   "cell_type": "code",
   "execution_count": 19,
   "id": "8d41d301",
   "metadata": {
    "scrolled": true
   },
   "outputs": [
    {
     "name": "stdout",
     "output_type": "stream",
     "text": [
      "Current number of rows: 2000\n",
      "Current number of columns: 12\n"
     ]
    }
   ],
   "source": [
    "print(f'Current number of rows: {df.shape[0]}')\n",
    "print(f'Current number of columns: {df.shape[1]}')"
   ]
  },
  {
   "cell_type": "code",
   "execution_count": 12,
   "id": "c3bf6990",
   "metadata": {
    "scrolled": true
   },
   "outputs": [
    {
     "name": "stdout",
     "output_type": "stream",
     "text": [
      "<class 'pandas.core.frame.DataFrame'>\n",
      "RangeIndex: 2000 entries, 0 to 1999\n",
      "Data columns (total 13 columns):\n",
      " #   Column             Non-Null Count  Dtype \n",
      "---  ------             --------------  ----- \n",
      " 0   Title              2000 non-null   object\n",
      " 1   Rating             2000 non-null   object\n",
      " 2   Year               2000 non-null   int64 \n",
      " 3   Month              2000 non-null   object\n",
      " 4   Certificate        2000 non-null   object\n",
      " 5   Runtime            2000 non-null   object\n",
      " 6   Directors          2000 non-null   object\n",
      " 7   Stars              2000 non-null   object\n",
      " 8   Genre              2000 non-null   object\n",
      " 9   Filming_location   2000 non-null   object\n",
      " 10  Budget             2000 non-null   object\n",
      " 11  Income             2000 non-null   object\n",
      " 12  Country_of_origin  2000 non-null   object\n",
      "dtypes: int64(1), object(12)\n",
      "memory usage: 203.2+ KB\n"
     ]
    }
   ],
   "source": [
    "#check if the column is gone\n",
    "df.info()"
   ]
  },
  {
   "cell_type": "code",
   "execution_count": 13,
   "id": "f74eb59a",
   "metadata": {},
   "outputs": [],
   "source": [
    "df= df.drop(['Certificate'], axis=1)"
   ]
  },
  {
   "cell_type": "code",
   "execution_count": 14,
   "id": "5fb3fbdd",
   "metadata": {},
   "outputs": [
    {
     "name": "stdout",
     "output_type": "stream",
     "text": [
      "Current number of rows: 2000\n",
      "Current number of columns: 12\n"
     ]
    }
   ],
   "source": [
    "print(f'Current number of rows: {df.shape[0]}')\n",
    "print(f'Current number of columns: {df.shape[1]}')"
   ]
  },
  {
   "cell_type": "code",
   "execution_count": 15,
   "id": "9a9dc2fa",
   "metadata": {
    "scrolled": true
   },
   "outputs": [
    {
     "data": {
      "text/plain": [
       "Title                0\n",
       "Rating               0\n",
       "Year                 0\n",
       "Month                0\n",
       "Runtime              0\n",
       "Directors            0\n",
       "Stars                0\n",
       "Genre                0\n",
       "Filming_location     0\n",
       "Budget               0\n",
       "Income               0\n",
       "Country_of_origin    0\n",
       "dtype: int64"
      ]
     },
     "execution_count": 15,
     "metadata": {},
     "output_type": "execute_result"
    }
   ],
   "source": [
    "#to check number of null values for each column\n",
    "df.isnull().sum()"
   ]
  },
  {
   "cell_type": "code",
   "execution_count": 16,
   "id": "9d77758f",
   "metadata": {
    "scrolled": true
   },
   "outputs": [
    {
     "name": "stdout",
     "output_type": "stream",
     "text": [
      "Title\n",
      "Rating\n",
      "Year\n",
      "Month\n",
      "Runtime\n",
      "Directors\n",
      "Stars\n",
      "Genre\n",
      "Filming_location\n",
      "Budget\n",
      "Income\n",
      "Country_of_origin\n"
     ]
    }
   ],
   "source": [
    "#This did not work out well // Excluded Ratings column due to dropna()\n",
    "columns = df.loc[:, df.notna().all()]\n",
    "\n",
    "for column_header in columns:\n",
    "    print(column_header)"
   ]
  },
  {
   "cell_type": "code",
   "execution_count": 20,
   "id": "decab360",
   "metadata": {},
   "outputs": [
    {
     "data": {
      "text/plain": [
       "0"
      ]
     },
     "execution_count": 20,
     "metadata": {},
     "output_type": "execute_result"
    }
   ],
   "source": [
    "# There we actuallly see that Unknown were not dropped previously.\n",
    "df.isna().any().sum()"
   ]
  },
  {
   "cell_type": "code",
   "execution_count": 21,
   "id": "e71b460c",
   "metadata": {
    "scrolled": true
   },
   "outputs": [
    {
     "data": {
      "text/plain": [
       "12"
      ]
     },
     "execution_count": 21,
     "metadata": {},
     "output_type": "execute_result"
    }
   ],
   "source": [
    "#Double checking on different code with rows are 'Unknown'\n",
    "df1 = df[(df['Budget']=='Unknown')]\n",
    "df1 = df[(df['Income']=='Unknown')]\n",
    "\n",
    "df1.any().sum()      "
   ]
  },
  {
   "cell_type": "code",
   "execution_count": 24,
   "id": "fafcbcc4",
   "metadata": {},
   "outputs": [
    {
     "data": {
      "text/html": [
       "<div>\n",
       "<style scoped>\n",
       "    .dataframe tbody tr th:only-of-type {\n",
       "        vertical-align: middle;\n",
       "    }\n",
       "\n",
       "    .dataframe tbody tr th {\n",
       "        vertical-align: top;\n",
       "    }\n",
       "\n",
       "    .dataframe thead th {\n",
       "        text-align: right;\n",
       "    }\n",
       "</style>\n",
       "<table border=\"1\" class=\"dataframe\">\n",
       "  <thead>\n",
       "    <tr style=\"text-align: right;\">\n",
       "      <th></th>\n",
       "      <th>Title</th>\n",
       "      <th>Rating</th>\n",
       "      <th>Year</th>\n",
       "      <th>Month</th>\n",
       "      <th>Runtime</th>\n",
       "      <th>Directors</th>\n",
       "      <th>Stars</th>\n",
       "      <th>Genre</th>\n",
       "      <th>Filming_location</th>\n",
       "      <th>Budget</th>\n",
       "      <th>Income</th>\n",
       "      <th>Country_of_origin</th>\n",
       "    </tr>\n",
       "  </thead>\n",
       "  <tbody>\n",
       "    <tr>\n",
       "      <th>0</th>\n",
       "      <td>Avatar: The Way of Water</td>\n",
       "      <td>7.8</td>\n",
       "      <td>2022</td>\n",
       "      <td>December</td>\n",
       "      <td>192</td>\n",
       "      <td>James Cameron</td>\n",
       "      <td>Sam Worthington, Zoe Saldana, Sigourney Weaver...</td>\n",
       "      <td>Action, Adventure, Fantasy</td>\n",
       "      <td>New Zealand</td>\n",
       "      <td>$350,000,000</td>\n",
       "      <td>$2,267,946,983</td>\n",
       "      <td>United States</td>\n",
       "    </tr>\n",
       "    <tr>\n",
       "      <th>1</th>\n",
       "      <td>Guillermo del Toro's Pinocchio</td>\n",
       "      <td>7.6</td>\n",
       "      <td>2022</td>\n",
       "      <td>December</td>\n",
       "      <td>117</td>\n",
       "      <td>Guillermo del Toro, Mark Gustafson</td>\n",
       "      <td>Ewan McGregor, David Bradley, Gregory Mann, Bu...</td>\n",
       "      <td>Animation, Drama, Family</td>\n",
       "      <td>USA</td>\n",
       "      <td>$35,000,000</td>\n",
       "      <td>$108,967</td>\n",
       "      <td>United States, Mexico, France</td>\n",
       "    </tr>\n",
       "  </tbody>\n",
       "</table>\n",
       "</div>"
      ],
      "text/plain": [
       "                            Title Rating  Year     Month Runtime  \\\n",
       "0        Avatar: The Way of Water    7.8  2022  December     192   \n",
       "1  Guillermo del Toro's Pinocchio    7.6  2022  December     117   \n",
       "\n",
       "                            Directors  \\\n",
       "0                       James Cameron   \n",
       "1  Guillermo del Toro, Mark Gustafson   \n",
       "\n",
       "                                               Stars  \\\n",
       "0  Sam Worthington, Zoe Saldana, Sigourney Weaver...   \n",
       "1  Ewan McGregor, David Bradley, Gregory Mann, Bu...   \n",
       "\n",
       "                        Genre Filming_location         Budget  \\\n",
       "0  Action, Adventure, Fantasy      New Zealand  $350,000,000    \n",
       "1    Animation, Drama, Family              USA   $35,000,000    \n",
       "\n",
       "            Income              Country_of_origin  \n",
       "0  $2,267,946,983                   United States  \n",
       "1        $108,967   United States, Mexico, France  "
      ]
     },
     "execution_count": 24,
     "metadata": {},
     "output_type": "execute_result"
    }
   ],
   "source": [
    "df.head(2)"
   ]
  },
  {
   "cell_type": "markdown",
   "id": "c5d4da63",
   "metadata": {},
   "source": [
    "### Getting rid of currency symbols"
   ]
  },
  {
   "cell_type": "code",
   "execution_count": 25,
   "id": "d1ad8a18",
   "metadata": {},
   "outputs": [],
   "source": [
    "# Conversion function (converts currency and to float)\n",
    "def convert_to_usd(amount):\n",
    "    amount.replace(' ', '')\n",
    "    amount.replace('\\xa0', '')\n",
    "    if amount.startswith('$'):\n",
    "        amount = amount.strip('$').replace(',', '')   # must remove commas\n",
    "        return float(amount)   # convert str into float\n",
    "    elif amount.startswith('€'):\n",
    "        # Exchange rate for EUR to USD\n",
    "        amount = amount.strip('€').replace(',', '')\n",
    "        return float(amount) * 1.06 \n",
    "    elif amount.startswith('¥'):\n",
    "        # Exchange rate for YEN to USD\n",
    "        amount = amount.strip('¥').replace(',', '')\n",
    "        return float(amount) * 0.0075\n",
    "    elif amount.startswith('₹'):\n",
    "        # Exchange rate for RPL to USD\n",
    "        amount = amount.strip('₹').replace(',', '')\n",
    "        return float(amount) * 0.012 \n",
    "    elif amount.startswith('SEK'):\n",
    "        # Exchange rate for SEK to USD\n",
    "        amount = amount.strip('SEK').replace(',', '')\n",
    "        return float(amount) * 0.094\n",
    "    elif amount.startswith('DKK'):\n",
    "        # Exchange rate for RPL to USD\n",
    "        amount = amount.strip('DKK').replace(',', '')\n",
    "        return float(amount) * 0.14\n",
    "    elif amount.startswith('£'):\n",
    "        # Exchange rate for RPL to USD\n",
    "        amount = amount.strip('£').replace(',', '')\n",
    "        return float(amount) * 1.21  \n",
    "    else:\n",
    "        return None"
   ]
  },
  {
   "cell_type": "code",
   "execution_count": 26,
   "id": "9fe3665d",
   "metadata": {},
   "outputs": [],
   "source": [
    "#Applying the conversion function\n",
    "df['Budget'] = df['Budget'].apply(convert_to_usd)\n",
    "df['Income'] = df['Income'].apply(convert_to_usd)"
   ]
  },
  {
   "cell_type": "code",
   "execution_count": null,
   "id": "c002adb5",
   "metadata": {},
   "outputs": [],
   "source": [
    "df = df.astype({'Budget':'float','Income':'float'})"
   ]
  },
  {
   "cell_type": "code",
   "execution_count": null,
   "id": "5b11893d",
   "metadata": {},
   "outputs": [],
   "source": [
    "df.head(3)"
   ]
  },
  {
   "cell_type": "code",
   "execution_count": 28,
   "id": "367a83c2",
   "metadata": {},
   "outputs": [
    {
     "name": "stdout",
     "output_type": "stream",
     "text": [
      "<class 'pandas.core.frame.DataFrame'>\n",
      "RangeIndex: 2000 entries, 0 to 1999\n",
      "Data columns (total 12 columns):\n",
      " #   Column             Non-Null Count  Dtype  \n",
      "---  ------             --------------  -----  \n",
      " 0   Title              2000 non-null   object \n",
      " 1   Rating             2000 non-null   object \n",
      " 2   Year               2000 non-null   int64  \n",
      " 3   Month              2000 non-null   object \n",
      " 4   Runtime            2000 non-null   object \n",
      " 5   Directors          2000 non-null   object \n",
      " 6   Stars              2000 non-null   object \n",
      " 7   Genre              2000 non-null   object \n",
      " 8   Filming_location   2000 non-null   object \n",
      " 9   Budget             1686 non-null   float64\n",
      " 10  Income             1855 non-null   float64\n",
      " 11  Country_of_origin  2000 non-null   object \n",
      "dtypes: float64(2), int64(1), object(9)\n",
      "memory usage: 187.6+ KB\n"
     ]
    }
   ],
   "source": [
    "df.info()"
   ]
  },
  {
   "cell_type": "code",
   "execution_count": 27,
   "id": "d258fc9a",
   "metadata": {},
   "outputs": [],
   "source": [
    "# Find out those with 'Unknowns' got undetected.\n",
    "df_income_na = (df1['Income'] == 'Unknown').sum()\n",
    "df_budget_na = (df1['Budget'] == 'Unknown').sum()\n"
   ]
  },
  {
   "cell_type": "code",
   "execution_count": 29,
   "id": "41f81206",
   "metadata": {},
   "outputs": [
    {
     "name": "stdout",
     "output_type": "stream",
     "text": [
      "145\n",
      "100\n"
     ]
    }
   ],
   "source": [
    "print(df_income_na)\n",
    "print(df_budget_na)"
   ]
  },
  {
   "cell_type": "code",
   "execution_count": 30,
   "id": "59f3de58",
   "metadata": {},
   "outputs": [],
   "source": [
    "# Convert the 'Unknown' values to NaN __Gpt\n",
    "df['Income'] = pd.to_numeric(df['Income'], errors='coerce')\n",
    "df['Budget'] = pd.to_numeric(df['Budget'], errors='coerce')"
   ]
  },
  {
   "cell_type": "code",
   "execution_count": 31,
   "id": "0ca698f9",
   "metadata": {
    "scrolled": true
   },
   "outputs": [
    {
     "name": "stdout",
     "output_type": "stream",
     "text": [
      "188720624.70781672\n",
      "61466373.15900949\n"
     ]
    }
   ],
   "source": [
    "income_mean= df['Income'].mean()   \n",
    "budget_mean= df['Budget'].mean()\n",
    "\n",
    "print(income_mean)\n",
    "print(budget_mean)"
   ]
  },
  {
   "cell_type": "code",
   "execution_count": 32,
   "id": "0a606f9e",
   "metadata": {},
   "outputs": [],
   "source": [
    "# Fill the missing values with the means\n",
    "df['Income'].fillna(income_mean, inplace=True)\n",
    "df['Budget'].fillna(budget_mean, inplace=True)"
   ]
  },
  {
   "cell_type": "code",
   "execution_count": 33,
   "id": "1d366dd7",
   "metadata": {},
   "outputs": [],
   "source": [
    "# Count the number of missing values in each variable\n",
    "df_income_na = df['Income'].isna().sum()\n",
    "df_budget_na = df['Budget'].isna().sum()"
   ]
  },
  {
   "cell_type": "code",
   "execution_count": 34,
   "id": "347df935",
   "metadata": {},
   "outputs": [
    {
     "name": "stdout",
     "output_type": "stream",
     "text": [
      "0\n",
      "0\n"
     ]
    }
   ],
   "source": [
    "print(df_income_na)\n",
    "print(df_budget_na)"
   ]
  },
  {
   "cell_type": "code",
   "execution_count": null,
   "id": "8b8cbd72",
   "metadata": {
    "scrolled": true
   },
   "outputs": [],
   "source": [
    "df.head(3)"
   ]
  },
  {
   "cell_type": "code",
   "execution_count": 35,
   "id": "149a332c",
   "metadata": {},
   "outputs": [],
   "source": [
    "# Convert values of (e) to regular 6 or 7 digit numbers and round them for Income, Budget columns\n",
    "def process_data(df):\n",
    "    \n",
    "    df['Income'] = df['Income'].apply(lambda x: round(x * 1e-2, 7))\n",
    "    \n",
    "    return df"
   ]
  },
  {
   "cell_type": "code",
   "execution_count": 36,
   "id": "71d4c6b0",
   "metadata": {},
   "outputs": [],
   "source": [
    "processed_df = process_data(df)"
   ]
  },
  {
   "cell_type": "code",
   "execution_count": 37,
   "id": "b95cd628",
   "metadata": {},
   "outputs": [
    {
     "data": {
      "text/html": [
       "<div>\n",
       "<style scoped>\n",
       "    .dataframe tbody tr th:only-of-type {\n",
       "        vertical-align: middle;\n",
       "    }\n",
       "\n",
       "    .dataframe tbody tr th {\n",
       "        vertical-align: top;\n",
       "    }\n",
       "\n",
       "    .dataframe thead th {\n",
       "        text-align: right;\n",
       "    }\n",
       "</style>\n",
       "<table border=\"1\" class=\"dataframe\">\n",
       "  <thead>\n",
       "    <tr style=\"text-align: right;\">\n",
       "      <th></th>\n",
       "      <th>Title</th>\n",
       "      <th>Rating</th>\n",
       "      <th>Year</th>\n",
       "      <th>Month</th>\n",
       "      <th>Runtime</th>\n",
       "      <th>Directors</th>\n",
       "      <th>Stars</th>\n",
       "      <th>Genre</th>\n",
       "      <th>Filming_location</th>\n",
       "      <th>Budget</th>\n",
       "      <th>Income</th>\n",
       "      <th>Country_of_origin</th>\n",
       "    </tr>\n",
       "  </thead>\n",
       "  <tbody>\n",
       "    <tr>\n",
       "      <th>0</th>\n",
       "      <td>Avatar: The Way of Water</td>\n",
       "      <td>7.8</td>\n",
       "      <td>2022</td>\n",
       "      <td>December</td>\n",
       "      <td>192</td>\n",
       "      <td>James Cameron</td>\n",
       "      <td>Sam Worthington, Zoe Saldana, Sigourney Weaver...</td>\n",
       "      <td>Action, Adventure, Fantasy</td>\n",
       "      <td>New Zealand</td>\n",
       "      <td>350000000.0</td>\n",
       "      <td>22679469.83</td>\n",
       "      <td>United States</td>\n",
       "    </tr>\n",
       "    <tr>\n",
       "      <th>1</th>\n",
       "      <td>Guillermo del Toro's Pinocchio</td>\n",
       "      <td>7.6</td>\n",
       "      <td>2022</td>\n",
       "      <td>December</td>\n",
       "      <td>117</td>\n",
       "      <td>Guillermo del Toro, Mark Gustafson</td>\n",
       "      <td>Ewan McGregor, David Bradley, Gregory Mann, Bu...</td>\n",
       "      <td>Animation, Drama, Family</td>\n",
       "      <td>USA</td>\n",
       "      <td>35000000.0</td>\n",
       "      <td>1089.67</td>\n",
       "      <td>United States, Mexico, France</td>\n",
       "    </tr>\n",
       "    <tr>\n",
       "      <th>2</th>\n",
       "      <td>Bullet Train</td>\n",
       "      <td>7.3</td>\n",
       "      <td>2022</td>\n",
       "      <td>August</td>\n",
       "      <td>127</td>\n",
       "      <td>David Leitch</td>\n",
       "      <td>Brad Pitt, Joey King, Aaron Taylor Johnson, Br...</td>\n",
       "      <td>Action, Comedy, Thriller</td>\n",
       "      <td>Japan</td>\n",
       "      <td>85900000.0</td>\n",
       "      <td>2392686.02</td>\n",
       "      <td>Japan, United States</td>\n",
       "    </tr>\n",
       "  </tbody>\n",
       "</table>\n",
       "</div>"
      ],
      "text/plain": [
       "                            Title Rating  Year     Month Runtime  \\\n",
       "0        Avatar: The Way of Water    7.8  2022  December     192   \n",
       "1  Guillermo del Toro's Pinocchio    7.6  2022  December     117   \n",
       "2                    Bullet Train    7.3  2022    August     127   \n",
       "\n",
       "                            Directors  \\\n",
       "0                       James Cameron   \n",
       "1  Guillermo del Toro, Mark Gustafson   \n",
       "2                        David Leitch   \n",
       "\n",
       "                                               Stars  \\\n",
       "0  Sam Worthington, Zoe Saldana, Sigourney Weaver...   \n",
       "1  Ewan McGregor, David Bradley, Gregory Mann, Bu...   \n",
       "2  Brad Pitt, Joey King, Aaron Taylor Johnson, Br...   \n",
       "\n",
       "                        Genre Filming_location       Budget       Income  \\\n",
       "0  Action, Adventure, Fantasy      New Zealand  350000000.0  22679469.83   \n",
       "1    Animation, Drama, Family              USA   35000000.0      1089.67   \n",
       "2    Action, Comedy, Thriller            Japan   85900000.0   2392686.02   \n",
       "\n",
       "               Country_of_origin  \n",
       "0                  United States  \n",
       "1  United States, Mexico, France  \n",
       "2           Japan, United States  "
      ]
     },
     "execution_count": 37,
     "metadata": {},
     "output_type": "execute_result"
    }
   ],
   "source": [
    "processed_df.head(3)"
   ]
  },
  {
   "cell_type": "code",
   "execution_count": 42,
   "id": "8e361bae",
   "metadata": {},
   "outputs": [
    {
     "name": "stdout",
     "output_type": "stream",
     "text": [
      "0\n"
     ]
    }
   ],
   "source": [
    "df_NaN_rows= (processed_df['Income']).isna().sum()\n",
    "\n",
    "print(df_NaN_rows)"
   ]
  },
  {
   "cell_type": "code",
   "execution_count": 43,
   "id": "8786181c",
   "metadata": {
    "scrolled": true
   },
   "outputs": [
    {
     "data": {
      "text/plain": [
       "396            3.05\n",
       "101            7.03\n",
       "1203          15.41\n",
       "1176          18.08\n",
       "1366          34.92\n",
       "           ...     \n",
       "405     20483597.54\n",
       "714     20695217.00\n",
       "0       22679469.83\n",
       "305     27975013.28\n",
       "1300    29229179.14\n",
       "Name: Income, Length: 2000, dtype: float64"
      ]
     },
     "execution_count": 43,
     "metadata": {},
     "output_type": "execute_result"
    }
   ],
   "source": [
    "# Update NaN values are gone and replaced with mean value of each columns (Income, Budget)\n",
    "\n",
    "processed_df['Income'].sort_values()"
   ]
  },
  {
   "cell_type": "code",
   "execution_count": 44,
   "id": "dbd0de3e",
   "metadata": {},
   "outputs": [
    {
     "data": {
      "text/html": [
       "<div>\n",
       "<style scoped>\n",
       "    .dataframe tbody tr th:only-of-type {\n",
       "        vertical-align: middle;\n",
       "    }\n",
       "\n",
       "    .dataframe tbody tr th {\n",
       "        vertical-align: top;\n",
       "    }\n",
       "\n",
       "    .dataframe thead th {\n",
       "        text-align: right;\n",
       "    }\n",
       "</style>\n",
       "<table border=\"1\" class=\"dataframe\">\n",
       "  <thead>\n",
       "    <tr style=\"text-align: right;\">\n",
       "      <th></th>\n",
       "      <th>Year</th>\n",
       "      <th>Budget</th>\n",
       "      <th>Income</th>\n",
       "    </tr>\n",
       "  </thead>\n",
       "  <tbody>\n",
       "    <tr>\n",
       "      <th>count</th>\n",
       "      <td>2000.000000</td>\n",
       "      <td>2.000000e+03</td>\n",
       "      <td>2.000000e+03</td>\n",
       "    </tr>\n",
       "    <tr>\n",
       "      <th>mean</th>\n",
       "      <td>2012.500000</td>\n",
       "      <td>6.146637e+07</td>\n",
       "      <td>1.887206e+06</td>\n",
       "    </tr>\n",
       "    <tr>\n",
       "      <th>std</th>\n",
       "      <td>5.767723</td>\n",
       "      <td>5.581133e+07</td>\n",
       "      <td>2.671559e+06</td>\n",
       "    </tr>\n",
       "    <tr>\n",
       "      <th>min</th>\n",
       "      <td>2003.000000</td>\n",
       "      <td>1.000000e+01</td>\n",
       "      <td>3.050000e+00</td>\n",
       "    </tr>\n",
       "    <tr>\n",
       "      <th>25%</th>\n",
       "      <td>2007.750000</td>\n",
       "      <td>2.000000e+07</td>\n",
       "      <td>2.956873e+05</td>\n",
       "    </tr>\n",
       "    <tr>\n",
       "      <th>50%</th>\n",
       "      <td>2012.500000</td>\n",
       "      <td>5.000000e+07</td>\n",
       "      <td>1.014846e+06</td>\n",
       "    </tr>\n",
       "    <tr>\n",
       "      <th>75%</th>\n",
       "      <td>2017.250000</td>\n",
       "      <td>7.500000e+07</td>\n",
       "      <td>2.081357e+06</td>\n",
       "    </tr>\n",
       "    <tr>\n",
       "      <th>max</th>\n",
       "      <td>2022.000000</td>\n",
       "      <td>3.560000e+08</td>\n",
       "      <td>2.922918e+07</td>\n",
       "    </tr>\n",
       "  </tbody>\n",
       "</table>\n",
       "</div>"
      ],
      "text/plain": [
       "              Year        Budget        Income\n",
       "count  2000.000000  2.000000e+03  2.000000e+03\n",
       "mean   2012.500000  6.146637e+07  1.887206e+06\n",
       "std       5.767723  5.581133e+07  2.671559e+06\n",
       "min    2003.000000  1.000000e+01  3.050000e+00\n",
       "25%    2007.750000  2.000000e+07  2.956873e+05\n",
       "50%    2012.500000  5.000000e+07  1.014846e+06\n",
       "75%    2017.250000  7.500000e+07  2.081357e+06\n",
       "max    2022.000000  3.560000e+08  2.922918e+07"
      ]
     },
     "execution_count": 44,
     "metadata": {},
     "output_type": "execute_result"
    }
   ],
   "source": [
    "processed_df.describe()"
   ]
  },
  {
   "cell_type": "code",
   "execution_count": 45,
   "id": "b06a224b",
   "metadata": {},
   "outputs": [
    {
     "data": {
      "text/plain": [
       "Title                0\n",
       "Rating               0\n",
       "Year                 0\n",
       "Month                0\n",
       "Runtime              0\n",
       "Directors            0\n",
       "Stars                0\n",
       "Genre                0\n",
       "Filming_location     0\n",
       "Budget               0\n",
       "Income               0\n",
       "Country_of_origin    0\n",
       "dtype: int64"
      ]
     },
     "execution_count": 45,
     "metadata": {},
     "output_type": "execute_result"
    }
   ],
   "source": [
    "#here are the Nan that is replaced. \n",
    "df.isna().sum()"
   ]
  },
  {
   "cell_type": "markdown",
   "id": "39433e7a",
   "metadata": {},
   "source": [
    "### Exponenential value (e)\n",
    "\n",
    "The value \"2.267947e+09\" is in scientific notation, aka\"exponential notation\". It represents a floating-point number in a compact way, where the \"e\" indicates the power of 10 to which the number should be multiplied. In this case, \"e+09\" means that the number should be multiplied by 10 to the power of 9, which is equivalent to 1 followed by 9 zeros, or 1,000,000,000.\n"
   ]
  },
  {
   "cell_type": "code",
   "execution_count": null,
   "id": "750d0cdb",
   "metadata": {
    "scrolled": true
   },
   "outputs": [],
   "source": [
    "processed_df['Budget'].sort_values()\n",
    "\n",
    "print(f'Current number of rows: {df.shape[0]}')\n",
    "print(f'Current number of columns: {df.shape[1]}')"
   ]
  },
  {
   "cell_type": "markdown",
   "id": "9319d691",
   "metadata": {},
   "source": [
    "### Now we have df and df_processed values // I am gonna visualise for both to compare and check for inconsistencies if any. "
   ]
  },
  {
   "cell_type": "code",
   "execution_count": 46,
   "id": "b927b6c5",
   "metadata": {},
   "outputs": [
    {
     "data": {
      "text/html": [
       "<div>\n",
       "<style scoped>\n",
       "    .dataframe tbody tr th:only-of-type {\n",
       "        vertical-align: middle;\n",
       "    }\n",
       "\n",
       "    .dataframe tbody tr th {\n",
       "        vertical-align: top;\n",
       "    }\n",
       "\n",
       "    .dataframe thead th {\n",
       "        text-align: right;\n",
       "    }\n",
       "</style>\n",
       "<table border=\"1\" class=\"dataframe\">\n",
       "  <thead>\n",
       "    <tr style=\"text-align: right;\">\n",
       "      <th></th>\n",
       "      <th>Year</th>\n",
       "      <th>Budget</th>\n",
       "      <th>Income</th>\n",
       "    </tr>\n",
       "  </thead>\n",
       "  <tbody>\n",
       "    <tr>\n",
       "      <th>count</th>\n",
       "      <td>2000.000000</td>\n",
       "      <td>2.000000e+03</td>\n",
       "      <td>2.000000e+03</td>\n",
       "    </tr>\n",
       "    <tr>\n",
       "      <th>mean</th>\n",
       "      <td>2012.500000</td>\n",
       "      <td>6.146637e+07</td>\n",
       "      <td>1.887206e+06</td>\n",
       "    </tr>\n",
       "    <tr>\n",
       "      <th>std</th>\n",
       "      <td>5.767723</td>\n",
       "      <td>5.581133e+07</td>\n",
       "      <td>2.671559e+06</td>\n",
       "    </tr>\n",
       "    <tr>\n",
       "      <th>min</th>\n",
       "      <td>2003.000000</td>\n",
       "      <td>1.000000e+01</td>\n",
       "      <td>3.050000e+00</td>\n",
       "    </tr>\n",
       "    <tr>\n",
       "      <th>25%</th>\n",
       "      <td>2007.750000</td>\n",
       "      <td>2.000000e+07</td>\n",
       "      <td>2.956873e+05</td>\n",
       "    </tr>\n",
       "    <tr>\n",
       "      <th>50%</th>\n",
       "      <td>2012.500000</td>\n",
       "      <td>5.000000e+07</td>\n",
       "      <td>1.014846e+06</td>\n",
       "    </tr>\n",
       "    <tr>\n",
       "      <th>75%</th>\n",
       "      <td>2017.250000</td>\n",
       "      <td>7.500000e+07</td>\n",
       "      <td>2.081357e+06</td>\n",
       "    </tr>\n",
       "    <tr>\n",
       "      <th>max</th>\n",
       "      <td>2022.000000</td>\n",
       "      <td>3.560000e+08</td>\n",
       "      <td>2.922918e+07</td>\n",
       "    </tr>\n",
       "  </tbody>\n",
       "</table>\n",
       "</div>"
      ],
      "text/plain": [
       "              Year        Budget        Income\n",
       "count  2000.000000  2.000000e+03  2.000000e+03\n",
       "mean   2012.500000  6.146637e+07  1.887206e+06\n",
       "std       5.767723  5.581133e+07  2.671559e+06\n",
       "min    2003.000000  1.000000e+01  3.050000e+00\n",
       "25%    2007.750000  2.000000e+07  2.956873e+05\n",
       "50%    2012.500000  5.000000e+07  1.014846e+06\n",
       "75%    2017.250000  7.500000e+07  2.081357e+06\n",
       "max    2022.000000  3.560000e+08  2.922918e+07"
      ]
     },
     "execution_count": 46,
     "metadata": {},
     "output_type": "execute_result"
    }
   ],
   "source": [
    "df.describe()"
   ]
  },
  {
   "cell_type": "code",
   "execution_count": 47,
   "id": "e88fb725",
   "metadata": {
    "scrolled": false
   },
   "outputs": [
    {
     "data": {
      "text/html": [
       "<div>\n",
       "<style scoped>\n",
       "    .dataframe tbody tr th:only-of-type {\n",
       "        vertical-align: middle;\n",
       "    }\n",
       "\n",
       "    .dataframe tbody tr th {\n",
       "        vertical-align: top;\n",
       "    }\n",
       "\n",
       "    .dataframe thead th {\n",
       "        text-align: right;\n",
       "    }\n",
       "</style>\n",
       "<table border=\"1\" class=\"dataframe\">\n",
       "  <thead>\n",
       "    <tr style=\"text-align: right;\">\n",
       "      <th></th>\n",
       "      <th>Title</th>\n",
       "      <th>Rating</th>\n",
       "      <th>Year</th>\n",
       "      <th>Month</th>\n",
       "      <th>Runtime</th>\n",
       "      <th>Directors</th>\n",
       "      <th>Stars</th>\n",
       "      <th>Genre</th>\n",
       "      <th>Filming_location</th>\n",
       "      <th>Budget</th>\n",
       "      <th>Income</th>\n",
       "      <th>Country_of_origin</th>\n",
       "      <th>Profit</th>\n",
       "    </tr>\n",
       "  </thead>\n",
       "  <tbody>\n",
       "    <tr>\n",
       "      <th>0</th>\n",
       "      <td>Avatar: The Way of Water</td>\n",
       "      <td>7.8</td>\n",
       "      <td>2022</td>\n",
       "      <td>December</td>\n",
       "      <td>192</td>\n",
       "      <td>James Cameron</td>\n",
       "      <td>Sam Worthington, Zoe Saldana, Sigourney Weaver...</td>\n",
       "      <td>Action, Adventure, Fantasy</td>\n",
       "      <td>New Zealand</td>\n",
       "      <td>350000000.0</td>\n",
       "      <td>22679469.83</td>\n",
       "      <td>United States</td>\n",
       "      <td>-3.273205e+08</td>\n",
       "    </tr>\n",
       "    <tr>\n",
       "      <th>1</th>\n",
       "      <td>Guillermo del Toro's Pinocchio</td>\n",
       "      <td>7.6</td>\n",
       "      <td>2022</td>\n",
       "      <td>December</td>\n",
       "      <td>117</td>\n",
       "      <td>Guillermo del Toro, Mark Gustafson</td>\n",
       "      <td>Ewan McGregor, David Bradley, Gregory Mann, Bu...</td>\n",
       "      <td>Animation, Drama, Family</td>\n",
       "      <td>USA</td>\n",
       "      <td>35000000.0</td>\n",
       "      <td>1089.67</td>\n",
       "      <td>United States, Mexico, France</td>\n",
       "      <td>-3.499891e+07</td>\n",
       "    </tr>\n",
       "    <tr>\n",
       "      <th>2</th>\n",
       "      <td>Bullet Train</td>\n",
       "      <td>7.3</td>\n",
       "      <td>2022</td>\n",
       "      <td>August</td>\n",
       "      <td>127</td>\n",
       "      <td>David Leitch</td>\n",
       "      <td>Brad Pitt, Joey King, Aaron Taylor Johnson, Br...</td>\n",
       "      <td>Action, Comedy, Thriller</td>\n",
       "      <td>Japan</td>\n",
       "      <td>85900000.0</td>\n",
       "      <td>2392686.02</td>\n",
       "      <td>Japan, United States</td>\n",
       "      <td>-8.350731e+07</td>\n",
       "    </tr>\n",
       "  </tbody>\n",
       "</table>\n",
       "</div>"
      ],
      "text/plain": [
       "                            Title Rating  Year     Month Runtime  \\\n",
       "0        Avatar: The Way of Water    7.8  2022  December     192   \n",
       "1  Guillermo del Toro's Pinocchio    7.6  2022  December     117   \n",
       "2                    Bullet Train    7.3  2022    August     127   \n",
       "\n",
       "                            Directors  \\\n",
       "0                       James Cameron   \n",
       "1  Guillermo del Toro, Mark Gustafson   \n",
       "2                        David Leitch   \n",
       "\n",
       "                                               Stars  \\\n",
       "0  Sam Worthington, Zoe Saldana, Sigourney Weaver...   \n",
       "1  Ewan McGregor, David Bradley, Gregory Mann, Bu...   \n",
       "2  Brad Pitt, Joey King, Aaron Taylor Johnson, Br...   \n",
       "\n",
       "                        Genre Filming_location       Budget       Income  \\\n",
       "0  Action, Adventure, Fantasy      New Zealand  350000000.0  22679469.83   \n",
       "1    Animation, Drama, Family              USA   35000000.0      1089.67   \n",
       "2    Action, Comedy, Thriller            Japan   85900000.0   2392686.02   \n",
       "\n",
       "               Country_of_origin        Profit  \n",
       "0                  United States -3.273205e+08  \n",
       "1  United States, Mexico, France -3.499891e+07  \n",
       "2           Japan, United States -8.350731e+07  "
      ]
     },
     "execution_count": 47,
     "metadata": {},
     "output_type": "execute_result"
    }
   ],
   "source": [
    "#profit = income - budget \n",
    "\n",
    "# define a function to calculate the values for the new column\n",
    "def calc_profit(row):\n",
    "    return row['Income'] - row['Budget']\n",
    "\n",
    "# apply the function to each row using the apply() method\n",
    "df['Profit'] = df.apply(calc_profit, axis=1)\n",
    "df.head(3)"
   ]
  },
  {
   "cell_type": "code",
   "execution_count": 51,
   "id": "bcba8caa",
   "metadata": {},
   "outputs": [
    {
     "data": {
      "text/html": [
       "<div>\n",
       "<style scoped>\n",
       "    .dataframe tbody tr th:only-of-type {\n",
       "        vertical-align: middle;\n",
       "    }\n",
       "\n",
       "    .dataframe tbody tr th {\n",
       "        vertical-align: top;\n",
       "    }\n",
       "\n",
       "    .dataframe thead th {\n",
       "        text-align: right;\n",
       "    }\n",
       "</style>\n",
       "<table border=\"1\" class=\"dataframe\">\n",
       "  <thead>\n",
       "    <tr style=\"text-align: right;\">\n",
       "      <th></th>\n",
       "      <th>Title</th>\n",
       "      <th>Rating</th>\n",
       "      <th>Year</th>\n",
       "      <th>Month</th>\n",
       "      <th>Runtime</th>\n",
       "      <th>Directors</th>\n",
       "      <th>Stars</th>\n",
       "      <th>Genre</th>\n",
       "      <th>Filming_location</th>\n",
       "      <th>Budget</th>\n",
       "      <th>Income</th>\n",
       "      <th>Country_of_origin</th>\n",
       "      <th>Profit</th>\n",
       "    </tr>\n",
       "  </thead>\n",
       "  <tbody>\n",
       "    <tr>\n",
       "      <th>477</th>\n",
       "      <td>The VelociPastor</td>\n",
       "      <td>5.0</td>\n",
       "      <td>2018</td>\n",
       "      <td>August</td>\n",
       "      <td>75</td>\n",
       "      <td>Brendan Steere</td>\n",
       "      <td>Greg Cohan, George Schewnzer, Janice Young, Da...</td>\n",
       "      <td>Action, Adventure, Comedy</td>\n",
       "      <td>USA</td>\n",
       "      <td>11000.0</td>\n",
       "      <td>1.887206e+06</td>\n",
       "      <td>United States, China</td>\n",
       "      <td>1.876206e+06</td>\n",
       "    </tr>\n",
       "    <tr>\n",
       "      <th>578</th>\n",
       "      <td>Picture of Beauty</td>\n",
       "      <td>3.4</td>\n",
       "      <td>2017</td>\n",
       "      <td>April</td>\n",
       "      <td>70</td>\n",
       "      <td>Maxim Ford</td>\n",
       "      <td>Taylor Sands, Danielle Rose, Pawel Hajnos, Mag...</td>\n",
       "      <td>Drama, Romance</td>\n",
       "      <td>Poland</td>\n",
       "      <td>121000.0</td>\n",
       "      <td>1.887206e+06</td>\n",
       "      <td>United Kingdom</td>\n",
       "      <td>1.766206e+06</td>\n",
       "    </tr>\n",
       "    <tr>\n",
       "      <th>627</th>\n",
       "      <td>Your Name.</td>\n",
       "      <td>8.4</td>\n",
       "      <td>2016</td>\n",
       "      <td>April</td>\n",
       "      <td>106</td>\n",
       "      <td>Makoto Shinkai</td>\n",
       "      <td>Ry nosuke Kamiki, Mone Kamishiraishi, Ry Narit...</td>\n",
       "      <td>Animation, Drama, Fantasy</td>\n",
       "      <td>Unknown</td>\n",
       "      <td>2775000.0</td>\n",
       "      <td>3.581801e+06</td>\n",
       "      <td>Japan</td>\n",
       "      <td>8.068011e+05</td>\n",
       "    </tr>\n",
       "    <tr>\n",
       "      <th>681</th>\n",
       "      <td>Hush</td>\n",
       "      <td>6.6</td>\n",
       "      <td>2016</td>\n",
       "      <td>April</td>\n",
       "      <td>82</td>\n",
       "      <td>Mike Flanagan</td>\n",
       "      <td>John Gallagher Jr , Kate Siegel, Michael Trucc...</td>\n",
       "      <td>Horror, Thriller</td>\n",
       "      <td>USA</td>\n",
       "      <td>1000000.0</td>\n",
       "      <td>1.887206e+06</td>\n",
       "      <td>United States</td>\n",
       "      <td>8.872062e+05</td>\n",
       "    </tr>\n",
       "    <tr>\n",
       "      <th>771</th>\n",
       "      <td>Angels Apocalypse</td>\n",
       "      <td>8.2</td>\n",
       "      <td>2015</td>\n",
       "      <td>December</td>\n",
       "      <td>85</td>\n",
       "      <td>Sean Cain, Enzo Zelocchi</td>\n",
       "      <td>Enzo Zelocchi, Jana Rochelle, Ryan C F Buckley...</td>\n",
       "      <td>Action, Fantasy, Sci-Fi</td>\n",
       "      <td>Unknown</td>\n",
       "      <td>500000.0</td>\n",
       "      <td>1.887206e+06</td>\n",
       "      <td>United States</td>\n",
       "      <td>1.387206e+06</td>\n",
       "    </tr>\n",
       "    <tr>\n",
       "      <th>791</th>\n",
       "      <td>Circle</td>\n",
       "      <td>6.0</td>\n",
       "      <td>2015</td>\n",
       "      <td>October</td>\n",
       "      <td>87</td>\n",
       "      <td>Aaron Hann, Mario Miscione</td>\n",
       "      <td>Allegra Masters, Aimee McKay, Ashley Key, Autu...</td>\n",
       "      <td>Drama, Horror, Mystery</td>\n",
       "      <td>Unknown</td>\n",
       "      <td>250000.0</td>\n",
       "      <td>1.887206e+06</td>\n",
       "      <td>United States</td>\n",
       "      <td>1.637206e+06</td>\n",
       "    </tr>\n",
       "    <tr>\n",
       "      <th>848</th>\n",
       "      <td>Mantus</td>\n",
       "      <td>2.1</td>\n",
       "      <td>2014</td>\n",
       "      <td>2014</td>\n",
       "      <td>Unknown</td>\n",
       "      <td>Enzo Zelocchi</td>\n",
       "      <td>Enzo Zelocchi, Miryam Negrin, Paul Gregory, Ma...</td>\n",
       "      <td>Comedy, Drama, Thriller</td>\n",
       "      <td>USA</td>\n",
       "      <td>250000.0</td>\n",
       "      <td>1.887206e+06</td>\n",
       "      <td>United States</td>\n",
       "      <td>1.637206e+06</td>\n",
       "    </tr>\n",
       "    <tr>\n",
       "      <th>995</th>\n",
       "      <td>Banshee</td>\n",
       "      <td>8.5</td>\n",
       "      <td>2013</td>\n",
       "      <td>September</td>\n",
       "      <td>50</td>\n",
       "      <td>Gemma Mc Carthy</td>\n",
       "      <td>Jonathan O Dwyer, Sean Flood, Frank Hurley, Fi...</td>\n",
       "      <td>Action</td>\n",
       "      <td>Ireland</td>\n",
       "      <td>318.0</td>\n",
       "      <td>1.887206e+06</td>\n",
       "      <td>Ireland</td>\n",
       "      <td>1.886888e+06</td>\n",
       "    </tr>\n",
       "    <tr>\n",
       "      <th>1133</th>\n",
       "      <td>Desire</td>\n",
       "      <td>5.4</td>\n",
       "      <td>2011</td>\n",
       "      <td>September</td>\n",
       "      <td>103</td>\n",
       "      <td>Laurent Bouhnik</td>\n",
       "      <td>D borah R vy, H l ne Zimmer, Gowan Didi, Johnn...</td>\n",
       "      <td>Drama, Romance</td>\n",
       "      <td>France</td>\n",
       "      <td>1590000.0</td>\n",
       "      <td>1.887206e+06</td>\n",
       "      <td>France</td>\n",
       "      <td>2.972062e+05</td>\n",
       "    </tr>\n",
       "    <tr>\n",
       "      <th>1193</th>\n",
       "      <td>67th Street, New York, NY</td>\n",
       "      <td>5.5</td>\n",
       "      <td>2011</td>\n",
       "      <td>January</td>\n",
       "      <td>105</td>\n",
       "      <td>Enzo Zelocchi</td>\n",
       "      <td>Enzo Zelocchi, David Man, Ladae Bond, Casey Cadag</td>\n",
       "      <td>Crime, Thriller</td>\n",
       "      <td>Unknown</td>\n",
       "      <td>300000.0</td>\n",
       "      <td>1.887206e+06</td>\n",
       "      <td>United States</td>\n",
       "      <td>1.587206e+06</td>\n",
       "    </tr>\n",
       "    <tr>\n",
       "      <th>1249</th>\n",
       "      <td>My Little Princess</td>\n",
       "      <td>3.2</td>\n",
       "      <td>2010</td>\n",
       "      <td>September</td>\n",
       "      <td>Unknown</td>\n",
       "      <td>Enzo Zelocchi</td>\n",
       "      <td>Enzo Zelocchi, Charlotte Labadie, David M Edel...</td>\n",
       "      <td>Romance, Drama, Family</td>\n",
       "      <td>Unknown</td>\n",
       "      <td>10.0</td>\n",
       "      <td>1.887206e+06</td>\n",
       "      <td>United States</td>\n",
       "      <td>1.887196e+06</td>\n",
       "    </tr>\n",
       "    <tr>\n",
       "      <th>1386</th>\n",
       "      <td>The Scouting Book for Boys</td>\n",
       "      <td>6.6</td>\n",
       "      <td>2009</td>\n",
       "      <td>March</td>\n",
       "      <td>93</td>\n",
       "      <td>Tom Harper</td>\n",
       "      <td>Thomas Turgoose, Holliday Grainger, Ruth Wellm...</td>\n",
       "      <td>Drama, Thriller</td>\n",
       "      <td>UK</td>\n",
       "      <td>1210000.0</td>\n",
       "      <td>1.887206e+06</td>\n",
       "      <td>United Kingdom</td>\n",
       "      <td>6.772062e+05</td>\n",
       "    </tr>\n",
       "    <tr>\n",
       "      <th>1549</th>\n",
       "      <td>The Man from Earth</td>\n",
       "      <td>7.9</td>\n",
       "      <td>2007</td>\n",
       "      <td>November</td>\n",
       "      <td>87</td>\n",
       "      <td>Richard Schenkman</td>\n",
       "      <td>David Lee Smith, Tony Todd, John Billingsley, ...</td>\n",
       "      <td>Drama, Fantasy, Mystery</td>\n",
       "      <td>USA</td>\n",
       "      <td>200000.0</td>\n",
       "      <td>1.887206e+06</td>\n",
       "      <td>United States</td>\n",
       "      <td>1.687206e+06</td>\n",
       "    </tr>\n",
       "    <tr>\n",
       "      <th>1557</th>\n",
       "      <td>Paranormal Activity</td>\n",
       "      <td>6.3</td>\n",
       "      <td>2007</td>\n",
       "      <td>October</td>\n",
       "      <td>86</td>\n",
       "      <td>Oren Peli</td>\n",
       "      <td>Katie Featherston, Micah Sloat, Mark Fredrichs...</td>\n",
       "      <td>Horror, Mystery</td>\n",
       "      <td>USA</td>\n",
       "      <td>15000.0</td>\n",
       "      <td>1.933558e+06</td>\n",
       "      <td>United States</td>\n",
       "      <td>1.918558e+06</td>\n",
       "    </tr>\n",
       "    <tr>\n",
       "      <th>1979</th>\n",
       "      <td>Dead End</td>\n",
       "      <td>6.5</td>\n",
       "      <td>2003</td>\n",
       "      <td>September</td>\n",
       "      <td>85</td>\n",
       "      <td>Jean Baptiste Andrea, Fabrice Canepa</td>\n",
       "      <td>Ray Wise, Lin Shaye, Mick Cain, Alexandra Holden</td>\n",
       "      <td>Adventure, Horror, Mystery</td>\n",
       "      <td>USA</td>\n",
       "      <td>900000.0</td>\n",
       "      <td>1.887206e+06</td>\n",
       "      <td>France</td>\n",
       "      <td>9.872062e+05</td>\n",
       "    </tr>\n",
       "  </tbody>\n",
       "</table>\n",
       "</div>"
      ],
      "text/plain": [
       "                           Title Rating  Year      Month  Runtime  \\\n",
       "477             The VelociPastor    5.0  2018     August       75   \n",
       "578            Picture of Beauty    3.4  2017      April       70   \n",
       "627                   Your Name.    8.4  2016      April      106   \n",
       "681                         Hush    6.6  2016      April       82   \n",
       "771            Angels Apocalypse    8.2  2015   December       85   \n",
       "791                       Circle    6.0  2015    October       87   \n",
       "848                       Mantus    2.1  2014       2014  Unknown   \n",
       "995                      Banshee    8.5  2013  September       50   \n",
       "1133                      Desire    5.4  2011  September      103   \n",
       "1193   67th Street, New York, NY    5.5  2011    January      105   \n",
       "1249          My Little Princess    3.2  2010  September  Unknown   \n",
       "1386  The Scouting Book for Boys    6.6  2009      March       93   \n",
       "1549          The Man from Earth    7.9  2007   November       87   \n",
       "1557         Paranormal Activity    6.3  2007    October       86   \n",
       "1979                    Dead End    6.5  2003  September       85   \n",
       "\n",
       "                                 Directors  \\\n",
       "477                         Brendan Steere   \n",
       "578                             Maxim Ford   \n",
       "627                         Makoto Shinkai   \n",
       "681                          Mike Flanagan   \n",
       "771               Sean Cain, Enzo Zelocchi   \n",
       "791             Aaron Hann, Mario Miscione   \n",
       "848                          Enzo Zelocchi   \n",
       "995                        Gemma Mc Carthy   \n",
       "1133                       Laurent Bouhnik   \n",
       "1193                         Enzo Zelocchi   \n",
       "1249                         Enzo Zelocchi   \n",
       "1386                            Tom Harper   \n",
       "1549                     Richard Schenkman   \n",
       "1557                             Oren Peli   \n",
       "1979  Jean Baptiste Andrea, Fabrice Canepa   \n",
       "\n",
       "                                                  Stars  \\\n",
       "477   Greg Cohan, George Schewnzer, Janice Young, Da...   \n",
       "578   Taylor Sands, Danielle Rose, Pawel Hajnos, Mag...   \n",
       "627   Ry nosuke Kamiki, Mone Kamishiraishi, Ry Narit...   \n",
       "681   John Gallagher Jr , Kate Siegel, Michael Trucc...   \n",
       "771   Enzo Zelocchi, Jana Rochelle, Ryan C F Buckley...   \n",
       "791   Allegra Masters, Aimee McKay, Ashley Key, Autu...   \n",
       "848   Enzo Zelocchi, Miryam Negrin, Paul Gregory, Ma...   \n",
       "995   Jonathan O Dwyer, Sean Flood, Frank Hurley, Fi...   \n",
       "1133  D borah R vy, H l ne Zimmer, Gowan Didi, Johnn...   \n",
       "1193  Enzo Zelocchi, David Man, Ladae Bond, Casey Cadag   \n",
       "1249  Enzo Zelocchi, Charlotte Labadie, David M Edel...   \n",
       "1386  Thomas Turgoose, Holliday Grainger, Ruth Wellm...   \n",
       "1549  David Lee Smith, Tony Todd, John Billingsley, ...   \n",
       "1557  Katie Featherston, Micah Sloat, Mark Fredrichs...   \n",
       "1979   Ray Wise, Lin Shaye, Mick Cain, Alexandra Holden   \n",
       "\n",
       "                           Genre Filming_location     Budget        Income  \\\n",
       "477    Action, Adventure, Comedy              USA    11000.0  1.887206e+06   \n",
       "578               Drama, Romance           Poland   121000.0  1.887206e+06   \n",
       "627    Animation, Drama, Fantasy          Unknown  2775000.0  3.581801e+06   \n",
       "681             Horror, Thriller              USA  1000000.0  1.887206e+06   \n",
       "771      Action, Fantasy, Sci-Fi          Unknown   500000.0  1.887206e+06   \n",
       "791       Drama, Horror, Mystery          Unknown   250000.0  1.887206e+06   \n",
       "848      Comedy, Drama, Thriller              USA   250000.0  1.887206e+06   \n",
       "995                       Action          Ireland      318.0  1.887206e+06   \n",
       "1133              Drama, Romance           France  1590000.0  1.887206e+06   \n",
       "1193             Crime, Thriller          Unknown   300000.0  1.887206e+06   \n",
       "1249      Romance, Drama, Family          Unknown       10.0  1.887206e+06   \n",
       "1386             Drama, Thriller               UK  1210000.0  1.887206e+06   \n",
       "1549     Drama, Fantasy, Mystery              USA   200000.0  1.887206e+06   \n",
       "1557             Horror, Mystery              USA    15000.0  1.933558e+06   \n",
       "1979  Adventure, Horror, Mystery              USA   900000.0  1.887206e+06   \n",
       "\n",
       "         Country_of_origin        Profit  \n",
       "477   United States, China  1.876206e+06  \n",
       "578         United Kingdom  1.766206e+06  \n",
       "627                  Japan  8.068011e+05  \n",
       "681          United States  8.872062e+05  \n",
       "771          United States  1.387206e+06  \n",
       "791          United States  1.637206e+06  \n",
       "848          United States  1.637206e+06  \n",
       "995                Ireland  1.886888e+06  \n",
       "1133                France  2.972062e+05  \n",
       "1193         United States  1.587206e+06  \n",
       "1249         United States  1.887196e+06  \n",
       "1386        United Kingdom  6.772062e+05  \n",
       "1549         United States  1.687206e+06  \n",
       "1557         United States  1.918558e+06  \n",
       "1979                France  9.872062e+05  "
      ]
     },
     "execution_count": 51,
     "metadata": {},
     "output_type": "execute_result"
    }
   ],
   "source": [
    "df[df['Profit'] > 100000]."
   ]
  },
  {
   "cell_type": "code",
   "execution_count": 52,
   "id": "7ff3d40e",
   "metadata": {},
   "outputs": [
    {
     "data": {
      "image/png": "[encoded data removed]",
      "text/plain": [
       "<Figure size 640x480 with 1 Axes>"
      ]
     },
     "metadata": {},
     "output_type": "display_data"
    }
   ],
   "source": [
    "# Plot the distribution of budget\n",
    "\n",
    "sns.histplot(x= df['Profit'], bins=10, color='violet', alpha= 0.9)\n",
    "plt.title('Profit Distribution')\n",
    "plt.xlabel('Profit')\n",
    "plt.ylabel('Count')\n",
    "plt.show()"
   ]
  },
  {
   "cell_type": "code",
   "execution_count": 53,
   "id": "21b308c9",
   "metadata": {},
   "outputs": [
    {
     "data": {
      "text/plain": [
       "<Figure size 1200x500 with 0 Axes>"
      ]
     },
     "metadata": {},
     "output_type": "display_data"
    },
    {
     "data": {
      "image/png": "[encoded data removed]",
      "text/plain": [
       "<Figure size 500x500 with 1 Axes>"
      ]
     },
     "metadata": {},
     "output_type": "display_data"
    },
    {
     "data": {
      "image/png": "[encoded data removed]",
      "text/plain": [
       "<Figure size 500x500 with 1 Axes>"
      ]
     },
     "metadata": {},
     "output_type": "display_data"
    }
   ],
   "source": [
    "import seaborn as sns\n",
    "import matplotlib.pyplot as plt\n",
    "\n",
    "# Plot the distribution of income\n",
    "plt.figure(figsize=(12,5))\n",
    "sns.displot(x=df['Income'], bins= 10, color='red', alpha= 0.6)\n",
    "plt.title('Income Distribution')\n",
    "plt.xlabel('Income')\n",
    "plt.ylabel('Count')\n",
    "plt.show()\n",
    "\n",
    "# Plot the distribution of budget\n",
    "sns.displot(x= df['Budget'], bins=10, color='red', alpha= 0.6)\n",
    "plt.title('Budget Distribution')\n",
    "plt.xlabel('Budget')\n",
    "plt.ylabel('Count')\n",
    "plt.show()"
   ]
  },
  {
   "cell_type": "code",
   "execution_count": 54,
   "id": "a3013c27",
   "metadata": {},
   "outputs": [
    {
     "data": {
      "image/png": "[encoded data removed]",
      "text/plain": [
       "<Figure size 640x480 with 1 Axes>"
      ]
     },
     "metadata": {},
     "output_type": "display_data"
    }
   ],
   "source": [
    "# Plot the distribution of rating\n",
    "sns.histplot(x= df['Rating'], bins=10, color='yellow', alpha= 0.9)\n",
    "plt.title('Score Distribution')\n",
    "plt.xlabel('Rating_score')\n",
    "plt.ylabel('Count')\n",
    "plt.show()"
   ]
  },
  {
   "cell_type": "markdown",
   "id": "e6b0c789",
   "metadata": {},
   "source": [
    "df['Budget'] = df['Budget'].astype(int)\n",
    "df['Income'] = df['Income'].astype(int)"
   ]
  },
  {
   "cell_type": "code",
   "execution_count": 55,
   "id": "b8dd9c40",
   "metadata": {},
   "outputs": [
    {
     "data": {
      "text/plain": [
       "<function __main__.process_data(df)>"
      ]
     },
     "execution_count": 55,
     "metadata": {},
     "output_type": "execute_result"
    }
   ],
   "source": [
    "def process_data(df):\n",
    "    df['Profit'] = df['Profit'].apply(lambda x: round(x * 1e-2, 7))\n",
    "    return process_data(df)\n",
    "\n",
    "process_data"
   ]
  },
  {
   "cell_type": "code",
   "execution_count": 56,
   "id": "f898883e",
   "metadata": {},
   "outputs": [
    {
     "ename": "RecursionError",
     "evalue": "maximum recursion depth exceeded while calling a Python object",
     "output_type": "error",
     "traceback": [
      "\u001b[0;31m---------------------------------------------------------------------------\u001b[0m",
      "\u001b[0;31mRecursionError\u001b[0m                            Traceback (most recent call last)",
      "\u001b[0;32m/var/folders/m7/9cltlp9x46vd9s1599v_nw3m0000gn/T/ipykernel_11240/2915788940.py\u001b[0m in \u001b[0;36m<module>\u001b[0;34m\u001b[0m\n\u001b[1;32m      1\u001b[0m \u001b[0;31m##Error. on returning profit with lamda function:'RecursionError: maximum recursion depth exceeded while calling a Python object'\u001b[0m\u001b[0;34m\u001b[0m\u001b[0;34m\u001b[0m\u001b[0m\n\u001b[1;32m      2\u001b[0m \u001b[0;34m\u001b[0m\u001b[0m\n\u001b[0;32m----> 3\u001b[0;31m \u001b[0mprocess_data\u001b[0m\u001b[0;34m(\u001b[0m\u001b[0mdf\u001b[0m\u001b[0;34m[\u001b[0m\u001b[0;34m[\u001b[0m\u001b[0;34m'Profit'\u001b[0m\u001b[0;34m]\u001b[0m\u001b[0;34m]\u001b[0m\u001b[0;34m.\u001b[0m\u001b[0mdescribe\u001b[0m\u001b[0;34m(\u001b[0m\u001b[0;34m)\u001b[0m\u001b[0;34m)\u001b[0m\u001b[0;34m\u001b[0m\u001b[0;34m\u001b[0m\u001b[0m\n\u001b[0m",
      "\u001b[0;32m/var/folders/m7/9cltlp9x46vd9s1599v_nw3m0000gn/T/ipykernel_11240/2788745161.py\u001b[0m in \u001b[0;36mprocess_data\u001b[0;34m(df)\u001b[0m\n\u001b[1;32m      1\u001b[0m \u001b[0;32mdef\u001b[0m \u001b[0mprocess_data\u001b[0m\u001b[0;34m(\u001b[0m\u001b[0mdf\u001b[0m\u001b[0;34m)\u001b[0m\u001b[0;34m:\u001b[0m\u001b[0;34m\u001b[0m\u001b[0;34m\u001b[0m\u001b[0m\n\u001b[1;32m      2\u001b[0m     \u001b[0mdf\u001b[0m\u001b[0;34m[\u001b[0m\u001b[0;34m'Profit'\u001b[0m\u001b[0;34m]\u001b[0m \u001b[0;34m=\u001b[0m \u001b[0mdf\u001b[0m\u001b[0;34m[\u001b[0m\u001b[0;34m'Profit'\u001b[0m\u001b[0;34m]\u001b[0m\u001b[0;34m.\u001b[0m\u001b[0mapply\u001b[0m\u001b[0;34m(\u001b[0m\u001b[0;32mlambda\u001b[0m \u001b[0mx\u001b[0m\u001b[0;34m:\u001b[0m \u001b[0mround\u001b[0m\u001b[0;34m(\u001b[0m\u001b[0mx\u001b[0m \u001b[0;34m*\u001b[0m \u001b[0;36m1e-2\u001b[0m\u001b[0;34m,\u001b[0m \u001b[0;36m7\u001b[0m\u001b[0;34m)\u001b[0m\u001b[0;34m)\u001b[0m\u001b[0;34m\u001b[0m\u001b[0;34m\u001b[0m\u001b[0m\n\u001b[0;32m----> 3\u001b[0;31m     \u001b[0;32mreturn\u001b[0m \u001b[0mprocess_data\u001b[0m\u001b[0;34m(\u001b[0m\u001b[0mdf\u001b[0m\u001b[0;34m)\u001b[0m\u001b[0;34m\u001b[0m\u001b[0;34m\u001b[0m\u001b[0m\n\u001b[0m\u001b[1;32m      4\u001b[0m \u001b[0;34m\u001b[0m\u001b[0m\n\u001b[1;32m      5\u001b[0m \u001b[0mprocess_data\u001b[0m\u001b[0;34m\u001b[0m\u001b[0;34m\u001b[0m\u001b[0m\n",
      "... last 1 frames repeated, from the frame below ...\n",
      "\u001b[0;32m/var/folders/m7/9cltlp9x46vd9s1599v_nw3m0000gn/T/ipykernel_11240/2788745161.py\u001b[0m in \u001b[0;36mprocess_data\u001b[0;34m(df)\u001b[0m\n\u001b[1;32m      1\u001b[0m \u001b[0;32mdef\u001b[0m \u001b[0mprocess_data\u001b[0m\u001b[0;34m(\u001b[0m\u001b[0mdf\u001b[0m\u001b[0;34m)\u001b[0m\u001b[0;34m:\u001b[0m\u001b[0;34m\u001b[0m\u001b[0;34m\u001b[0m\u001b[0m\n\u001b[1;32m      2\u001b[0m     \u001b[0mdf\u001b[0m\u001b[0;34m[\u001b[0m\u001b[0;34m'Profit'\u001b[0m\u001b[0;34m]\u001b[0m \u001b[0;34m=\u001b[0m \u001b[0mdf\u001b[0m\u001b[0;34m[\u001b[0m\u001b[0;34m'Profit'\u001b[0m\u001b[0;34m]\u001b[0m\u001b[0;34m.\u001b[0m\u001b[0mapply\u001b[0m\u001b[0;34m(\u001b[0m\u001b[0;32mlambda\u001b[0m \u001b[0mx\u001b[0m\u001b[0;34m:\u001b[0m \u001b[0mround\u001b[0m\u001b[0;34m(\u001b[0m\u001b[0mx\u001b[0m \u001b[0;34m*\u001b[0m \u001b[0;36m1e-2\u001b[0m\u001b[0;34m,\u001b[0m \u001b[0;36m7\u001b[0m\u001b[0;34m)\u001b[0m\u001b[0;34m)\u001b[0m\u001b[0;34m\u001b[0m\u001b[0;34m\u001b[0m\u001b[0m\n\u001b[0;32m----> 3\u001b[0;31m     \u001b[0;32mreturn\u001b[0m \u001b[0mprocess_data\u001b[0m\u001b[0;34m(\u001b[0m\u001b[0mdf\u001b[0m\u001b[0;34m)\u001b[0m\u001b[0;34m\u001b[0m\u001b[0;34m\u001b[0m\u001b[0m\n\u001b[0m\u001b[1;32m      4\u001b[0m \u001b[0;34m\u001b[0m\u001b[0m\n\u001b[1;32m      5\u001b[0m \u001b[0mprocess_data\u001b[0m\u001b[0;34m\u001b[0m\u001b[0;34m\u001b[0m\u001b[0m\n",
      "\u001b[0;31mRecursionError\u001b[0m: maximum recursion depth exceeded while calling a Python object"
     ]
    }
   ],
   "source": [
    "##Error. on returning profit with lamda function:'RecursionError: maximum recursion depth exceeded while calling a Python object'\n",
    "\n",
    "process_data(df[['Profit']].describe())"
   ]
  },
  {
   "cell_type": "code",
   "execution_count": null,
   "id": "ffd6d7ae",
   "metadata": {},
   "outputs": [],
   "source": [
    "df[['Profit']].describe()"
   ]
  },
  {
   "cell_type": "code",
   "execution_count": null,
   "id": "a8b2f952",
   "metadata": {},
   "outputs": [],
   "source": [
    "df2 = df.groupby('Rating')['Profit'].sum()"
   ]
  },
  {
   "cell_type": "code",
   "execution_count": null,
   "id": "967f57f8",
   "metadata": {},
   "outputs": [],
   "source": [
    "df.describe()"
   ]
  },
  {
   "cell_type": "code",
   "execution_count": 57,
   "id": "e634ac0d",
   "metadata": {},
   "outputs": [
    {
     "data": {
      "text/plain": [
       "Title                 object\n",
       "Rating                object\n",
       "Year                   int64\n",
       "Month                 object\n",
       "Runtime               object\n",
       "Directors             object\n",
       "Stars                 object\n",
       "Genre                 object\n",
       "Filming_location      object\n",
       "Budget               float64\n",
       "Income               float64\n",
       "Country_of_origin     object\n",
       "Profit               float64\n",
       "dtype: object"
      ]
     },
     "execution_count": 57,
     "metadata": {},
     "output_type": "execute_result"
    }
   ],
   "source": [
    "df.dtypes"
   ]
  },
  {
   "cell_type": "code",
   "execution_count": null,
   "id": "cbeb3509",
   "metadata": {},
   "outputs": [],
   "source": [
    "##Another plot with multiple features\n",
    "## Due to Nan values scatter plot gives error. \n",
    "df.plot(kind='scatter', x= df['Budget'], y= df['Income'], s= df['Profit'], cmap=plt.get_cmap(\"jet\"), figsize=(10,6), \n",
    "        c= df['Rating'], colorbar=True, sharex=False)\n",
    "\n",
    "plt.title('Budget, Income, Profit and Ratings')\n",
    "plt.legend()\n",
    "plt.show()"
   ]
  },
  {
   "cell_type": "code",
   "execution_count": 58,
   "id": "9293eee5",
   "metadata": {},
   "outputs": [
    {
     "data": {
      "image/png": "[encoded data removed]",
      "text/plain": [
       "<Figure size 1500x700 with 4 Axes>"
      ]
     },
     "metadata": {},
     "output_type": "display_data"
    }
   ],
   "source": [
    "df = df[['Rating', 'Income', 'Budget', 'Year']]\n",
    "df.hist(bins=30, figsize=(15,7), color='pink', alpha= 0.9)\n",
    "\n",
    "plt.show() \n",
    "#Rating turn to int. again. "
   ]
  },
  {
   "cell_type": "markdown",
   "id": "204999ed",
   "metadata": {},
   "source": [
    "processed_df still contains 'NaN' values, which annoys me. "
   ]
  },
  {
   "cell_type": "code",
   "execution_count": null,
   "id": "088c81dd",
   "metadata": {},
   "outputs": [],
   "source": [
    "# when working with levels /categorical data, these below will come handy\n",
    "from sklearn.preprocessing import LabelEncoder"
   ]
  },
  {
   "cell_type": "code",
   "execution_count": null,
   "id": "b250e4ac",
   "metadata": {},
   "outputs": [],
   "source": [
    "from sklearn.preprocessing import OneHotEncoder\n",
    "import pandas.getdummies"
   ]
  },
  {
   "cell_type": "code",
   "execution_count": null,
   "id": "5b3cbe23",
   "metadata": {},
   "outputs": [],
   "source": []
  },
  {
   "cell_type": "code",
   "execution_count": null,
   "id": "48f35fee",
   "metadata": {},
   "outputs": [],
   "source": []
  }
 ],
 "metadata": {
  "kernelspec": {
   "display_name": "Python 3 (ipykernel)",
   "language": "python",
   "name": "python3"
  },
  "language_info": {
   "codemirror_mode": {
    "name": "ipython",
    "version": 3
   },
   "file_extension": ".py",
   "mimetype": "text/x-python",
   "name": "python",
   "nbconvert_exporter": "python",
   "pygments_lexer": "ipython3",
   "version": "3.9.13"
  }
 },
 "nbformat": 4,
 "nbformat_minor": 5
}
