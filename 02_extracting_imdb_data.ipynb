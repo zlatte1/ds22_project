{
 "cells": [
  {
   "cell_type": "code",
   "execution_count": null,
   "metadata": {},
   "outputs": [],
   "source": []
  },
  {
   "cell_type": "code",
   "execution_count": 104,
   "metadata": {},
   "outputs": [],
   "source": [
    "import pandas as pd\n",
    "import numpy as np\n",
    "import matplotlib.pyplot as plt\n",
    "\n",
    "#!pip install imdbpy\n",
    "import imdb\n",
    "from imdb import Cinemagoer"
   ]
  },
  {
   "cell_type": "code",
   "execution_count": 105,
   "metadata": {},
   "outputs": [],
   "source": [
    "dataset = pd.read_csv('new_dataset.csv')"
   ]
  },
  {
   "cell_type": "code",
   "execution_count": 106,
   "metadata": {},
   "outputs": [
    {
     "name": "stdout",
     "output_type": "stream",
     "text": [
      "<class 'pandas.core.frame.DataFrame'>\n",
      "RangeIndex: 1641 entries, 0 to 1640\n",
      "Data columns (total 33 columns):\n",
      " #   Column           Non-Null Count  Dtype  \n",
      "---  ------           --------------  -----  \n",
      " 0   Title            1641 non-null   object \n",
      " 1   Rating           1641 non-null   float64\n",
      " 2   Year             1641 non-null   int64  \n",
      " 3   Month            1641 non-null   object \n",
      " 4   Runtime          1641 non-null   float64\n",
      " 5   Directors        1641 non-null   object \n",
      " 6   Budget           1641 non-null   float64\n",
      " 7   Income           1641 non-null   float64\n",
      " 8   Action           1641 non-null   int64  \n",
      " 9   Adventure        1641 non-null   int64  \n",
      " 10  Animation        1641 non-null   int64  \n",
      " 11  Biography        1641 non-null   int64  \n",
      " 12  Comedy           1641 non-null   int64  \n",
      " 13  Crime            1641 non-null   int64  \n",
      " 14  Drama            1641 non-null   int64  \n",
      " 15  Family           1641 non-null   int64  \n",
      " 16  Fantasy          1641 non-null   int64  \n",
      " 17  History          1641 non-null   int64  \n",
      " 18  Horror           1641 non-null   int64  \n",
      " 19  Music            1641 non-null   int64  \n",
      " 20  Musical          1641 non-null   int64  \n",
      " 21  Mystery          1641 non-null   int64  \n",
      " 22  Romance          1641 non-null   int64  \n",
      " 23  Sci-Fi           1641 non-null   int64  \n",
      " 24  Sport            1641 non-null   int64  \n",
      " 25  Thriller         1641 non-null   int64  \n",
      " 26  War              1641 non-null   int64  \n",
      " 27  Western          1641 non-null   object \n",
      " 28  Top_50_Director  1641 non-null   object \n",
      " 29  Lead             1641 non-null   object \n",
      " 30  Supporting       1641 non-null   object \n",
      " 31  Lead_Top         1640 non-null   float64\n",
      " 32  Supporting_Top   1640 non-null   float64\n",
      "dtypes: float64(6), int64(20), object(7)\n",
      "memory usage: 423.2+ KB\n"
     ]
    }
   ],
   "source": [
    "dataset.info()"
   ]
  },
  {
   "cell_type": "code",
   "execution_count": 107,
   "metadata": {},
   "outputs": [],
   "source": [
    "ia = imdb.IMDb()"
   ]
  },
  {
   "cell_type": "code",
   "execution_count": 113,
   "metadata": {},
   "outputs": [],
   "source": [
    "# Function to find number of movies and average rating for person\n",
    "\n",
    "\n",
    "def update_columns(column_name, dataset, person_type):\n",
    "    # Create an IMDb object\n",
    "    ia = imdb.IMDb()\n",
    "\n",
    "    for index, row in dataset.iterrows():\n",
    "        name = row[column_name]\n",
    "        name_search = ia.search_person(name)\n",
    "        \n",
    "        # Check if name has a match on IMDb\n",
    "        if not name_search:\n",
    "            dataset.loc[index, f'{column_name}_Nr_Movies'] = 0\n",
    "            dataset.loc[index, f'{column_name}_Avg_Rating'] = 0\n",
    "            dataset.loc[index, f'{column_name}_Nr_Awards'] = 0\n",
    "            dataset.loc[index, f'{column_name}_Nr_Nominations'] = 0\n",
    "            continue\n",
    "\n",
    "        person_id = name_search[0].getID()\n",
    "        person = ia.get_person(person_id)\n",
    "        ia.update(person, 'awards')        \n",
    "\n",
    "        # Extract the number of awards and nominees\n",
    "        awards_dict = person['awards']\n",
    "        num_awards = 0\n",
    "        num_nominations = 0\n",
    "\n",
    "        for award in awards_dict:\n",
    "            if 'wins' in award:\n",
    "                num_awards += award['wins']\n",
    "            if 'nominations' in award:\n",
    "                num_nominations += award['nominations']\n",
    "\n",
    "        # Set the number of awards and nominations to 0 if not found\n",
    "        if num_awards == 0:\n",
    "            dataset.loc[index, f'{column_name}_Nr_Awards'] = 0\n",
    "        if num_nominations == 0:\n",
    "            dataset.loc[index, f'{column_name}_Nr_Nominations'] = 0\n",
    "\n",
    "        # Extract the movies and ratings for the actor\n",
    "        ia.update(person, 'filmography')\n",
    "        ratings_list = []\n",
    "\n",
    "        # Iterate over the actor's filmography and extract the movie id\n",
    "        for movie in person['filmography'][person_type]:\n",
    "            movie_title = movie.movieID\n",
    "\n",
    "            # Get the movie's rating based on the movie id\n",
    "            movie = ia.get_movie(movie_title)\n",
    "            release_year = movie.get('year')\n",
    "\n",
    "            # Handle release years\n",
    "            if release_year is not None:\n",
    "                release_year = int(release_year)\n",
    "            else:\n",
    "                release_year = 0\n",
    "\n",
    "            # Keep only ratings with release year up to 2023\n",
    "            rating = movie.get('rating')\n",
    "            if 0 < release_year < 2024 and rating is not None:\n",
    "                ratings_list.append(float(rating))\n",
    "\n",
    "        # Set the number of movies and average rating to 0 if not found\n",
    "        if not ratings_list:\n",
    "            dataset.loc[index, f'{column_name}_Nr_Movies'] = 0\n",
    "            dataset.loc[index, f'{column_name}_Avg_Rating'] = 0\n",
    "        else:\n",
    "            dataset.loc[index, f'{column_name}_Nr_Movies'] = len(ratings_list)\n",
    "            dataset.loc[index, f'{column_name}_Avg_Rating'] = np.mean(ratings_list)\n",
    "\n",
    "        print(index)\n",
    "\n",
    "    return dataset\n"
   ]
  },
  {
   "attachments": {},
   "cell_type": "markdown",
   "metadata": {},
   "source": [
    "## 1. Finding the number of movies and average rating for Director"
   ]
  },
  {
   "cell_type": "code",
   "execution_count": 114,
   "metadata": {},
   "outputs": [
    {
     "name": "stdout",
     "output_type": "stream",
     "text": [
      "0\n",
      "1\n",
      "2\n",
      "3\n",
      "4\n",
      "5\n",
      "6\n",
      "7\n",
      "8\n",
      "9\n",
      "10\n",
      "11\n",
      "12\n",
      "13\n",
      "14\n",
      "15\n",
      "16\n",
      "17\n",
      "18\n",
      "19\n",
      "20\n",
      "21\n",
      "22\n",
      "23\n",
      "24\n",
      "25\n",
      "26\n",
      "27\n",
      "28\n",
      "29\n",
      "30\n",
      "31\n",
      "32\n",
      "33\n",
      "34\n"
     ]
    },
    {
     "ename": "KeyError",
     "evalue": "'director'",
     "output_type": "error",
     "traceback": [
      "\u001b[0;31m---------------------------------------------------------------------------\u001b[0m",
      "\u001b[0;31mKeyError\u001b[0m                                  Traceback (most recent call last)",
      "\u001b[1;32m/Users/vedabojar/Desktop/DataScience/06_datascience_projekt/ds22_project/02_extracting_imdb_data.ipynb Cell 8\u001b[0m in \u001b[0;36m<cell line: 2>\u001b[0;34m()\u001b[0m\n\u001b[1;32m      <a href='vscode-notebook-cell:/Users/vedabojar/Desktop/DataScience/06_datascience_projekt/ds22_project/02_extracting_imdb_data.ipynb#W6sZmlsZQ%3D%3D?line=0'>1</a>\u001b[0m \u001b[39m# Running the function above\u001b[39;00m\n\u001b[0;32m----> <a href='vscode-notebook-cell:/Users/vedabojar/Desktop/DataScience/06_datascience_projekt/ds22_project/02_extracting_imdb_data.ipynb#W6sZmlsZQ%3D%3D?line=1'>2</a>\u001b[0m update_columns(\u001b[39m'\u001b[39;49m\u001b[39mDirectors\u001b[39;49m\u001b[39m'\u001b[39;49m, dataset, \u001b[39m'\u001b[39;49m\u001b[39mdirector\u001b[39;49m\u001b[39m'\u001b[39;49m)\n",
      "\u001b[1;32m/Users/vedabojar/Desktop/DataScience/06_datascience_projekt/ds22_project/02_extracting_imdb_data.ipynb Cell 8\u001b[0m in \u001b[0;36mupdate_columns\u001b[0;34m(column_name, dataset, person_type)\u001b[0m\n\u001b[1;32m     <a href='vscode-notebook-cell:/Users/vedabojar/Desktop/DataScience/06_datascience_projekt/ds22_project/02_extracting_imdb_data.ipynb#W6sZmlsZQ%3D%3D?line=36'>37</a>\u001b[0m ratings_list \u001b[39m=\u001b[39m []\n\u001b[1;32m     <a href='vscode-notebook-cell:/Users/vedabojar/Desktop/DataScience/06_datascience_projekt/ds22_project/02_extracting_imdb_data.ipynb#W6sZmlsZQ%3D%3D?line=38'>39</a>\u001b[0m \u001b[39m# Iterate over the actor's filmography and extract the movie id\u001b[39;00m\n\u001b[0;32m---> <a href='vscode-notebook-cell:/Users/vedabojar/Desktop/DataScience/06_datascience_projekt/ds22_project/02_extracting_imdb_data.ipynb#W6sZmlsZQ%3D%3D?line=39'>40</a>\u001b[0m \u001b[39mfor\u001b[39;00m movie \u001b[39min\u001b[39;00m person[\u001b[39m'\u001b[39;49m\u001b[39mfilmography\u001b[39;49m\u001b[39m'\u001b[39;49m][person_type]:\n\u001b[1;32m     <a href='vscode-notebook-cell:/Users/vedabojar/Desktop/DataScience/06_datascience_projekt/ds22_project/02_extracting_imdb_data.ipynb#W6sZmlsZQ%3D%3D?line=40'>41</a>\u001b[0m     movie_title \u001b[39m=\u001b[39m movie\u001b[39m.\u001b[39mmovieID\n\u001b[1;32m     <a href='vscode-notebook-cell:/Users/vedabojar/Desktop/DataScience/06_datascience_projekt/ds22_project/02_extracting_imdb_data.ipynb#W6sZmlsZQ%3D%3D?line=42'>43</a>\u001b[0m     \u001b[39m# Get the movie's rating based on the movie id\u001b[39;00m\n",
      "\u001b[0;31mKeyError\u001b[0m: 'director'"
     ]
    }
   ],
   "source": [
    "# Running the function above\n",
    "update_columns('Directors', dataset, 'director')"
   ]
  },
  {
   "cell_type": "code",
   "execution_count": 115,
   "metadata": {},
   "outputs": [
    {
     "name": "stdout",
     "output_type": "stream",
     "text": [
      "<class 'pandas.core.frame.DataFrame'>\n",
      "RangeIndex: 1641 entries, 0 to 1640\n",
      "Data columns (total 33 columns):\n",
      " #   Column           Non-Null Count  Dtype  \n",
      "---  ------           --------------  -----  \n",
      " 0   Title            1641 non-null   object \n",
      " 1   Rating           1641 non-null   float64\n",
      " 2   Year             1641 non-null   int64  \n",
      " 3   Month            1641 non-null   object \n",
      " 4   Runtime          1641 non-null   float64\n",
      " 5   Directors        1641 non-null   object \n",
      " 6   Budget           1641 non-null   float64\n",
      " 7   Income           1641 non-null   float64\n",
      " 8   Action           1641 non-null   int64  \n",
      " 9   Adventure        1641 non-null   int64  \n",
      " 10  Animation        1641 non-null   int64  \n",
      " 11  Biography        1641 non-null   int64  \n",
      " 12  Comedy           1641 non-null   int64  \n",
      " 13  Crime            1641 non-null   int64  \n",
      " 14  Drama            1641 non-null   int64  \n",
      " 15  Family           1641 non-null   int64  \n",
      " 16  Fantasy          1641 non-null   int64  \n",
      " 17  History          1641 non-null   int64  \n",
      " 18  Horror           1641 non-null   int64  \n",
      " 19  Music            1641 non-null   int64  \n",
      " 20  Musical          1641 non-null   int64  \n",
      " 21  Mystery          1641 non-null   int64  \n",
      " 22  Romance          1641 non-null   int64  \n",
      " 23  Sci-Fi           1641 non-null   int64  \n",
      " 24  Sport            1641 non-null   int64  \n",
      " 25  Thriller         1641 non-null   int64  \n",
      " 26  War              1641 non-null   int64  \n",
      " 27  Western          1641 non-null   object \n",
      " 28  Top_50_Director  1641 non-null   object \n",
      " 29  Lead             1641 non-null   object \n",
      " 30  Supporting       1641 non-null   object \n",
      " 31  Lead_Top         1640 non-null   float64\n",
      " 32  Supporting_Top   1640 non-null   float64\n",
      "dtypes: float64(6), int64(20), object(7)\n",
      "memory usage: 423.2+ KB\n"
     ]
    }
   ],
   "source": [
    "dataset.info(2)"
   ]
  },
  {
   "attachments": {},
   "cell_type": "markdown",
   "metadata": {},
   "source": [
    "## 2. Finding the number of movies and average rating for Lead stars"
   ]
  },
  {
   "cell_type": "code",
   "execution_count": 116,
   "metadata": {},
   "outputs": [
    {
     "name": "stdout",
     "output_type": "stream",
     "text": [
      "0\n",
      "1\n",
      "2\n"
     ]
    },
    {
     "ename": "KeyError",
     "evalue": "'awards'",
     "output_type": "error",
     "traceback": [
      "\u001b[0;31m---------------------------------------------------------------------------\u001b[0m",
      "\u001b[0;31mKeyError\u001b[0m                                  Traceback (most recent call last)",
      "\u001b[1;32m/Users/vedabojar/Desktop/DataScience/06_datascience_projekt/ds22_project/02_extracting_imdb_data.ipynb Cell 11\u001b[0m in \u001b[0;36m<cell line: 2>\u001b[0;34m()\u001b[0m\n\u001b[1;32m      <a href='vscode-notebook-cell:/Users/vedabojar/Desktop/DataScience/06_datascience_projekt/ds22_project/02_extracting_imdb_data.ipynb#X14sZmlsZQ%3D%3D?line=0'>1</a>\u001b[0m \u001b[39m# Running the function above\u001b[39;00m\n\u001b[0;32m----> <a href='vscode-notebook-cell:/Users/vedabojar/Desktop/DataScience/06_datascience_projekt/ds22_project/02_extracting_imdb_data.ipynb#X14sZmlsZQ%3D%3D?line=1'>2</a>\u001b[0m update_columns(\u001b[39m'\u001b[39;49m\u001b[39mLead\u001b[39;49m\u001b[39m'\u001b[39;49m, dataset, \u001b[39m'\u001b[39;49m\u001b[39mactor\u001b[39;49m\u001b[39m'\u001b[39;49m)\n",
      "\u001b[1;32m/Users/vedabojar/Desktop/DataScience/06_datascience_projekt/ds22_project/02_extracting_imdb_data.ipynb Cell 11\u001b[0m in \u001b[0;36mupdate_columns\u001b[0;34m(column_name, dataset, person_type)\u001b[0m\n\u001b[1;32m     <a href='vscode-notebook-cell:/Users/vedabojar/Desktop/DataScience/06_datascience_projekt/ds22_project/02_extracting_imdb_data.ipynb#X14sZmlsZQ%3D%3D?line=20'>21</a>\u001b[0m ia\u001b[39m.\u001b[39mupdate(person, \u001b[39m'\u001b[39m\u001b[39mawards\u001b[39m\u001b[39m'\u001b[39m)        \n\u001b[1;32m     <a href='vscode-notebook-cell:/Users/vedabojar/Desktop/DataScience/06_datascience_projekt/ds22_project/02_extracting_imdb_data.ipynb#X14sZmlsZQ%3D%3D?line=22'>23</a>\u001b[0m \u001b[39m# Extract the number of awards and nominees\u001b[39;00m\n\u001b[0;32m---> <a href='vscode-notebook-cell:/Users/vedabojar/Desktop/DataScience/06_datascience_projekt/ds22_project/02_extracting_imdb_data.ipynb#X14sZmlsZQ%3D%3D?line=23'>24</a>\u001b[0m awards_dict \u001b[39m=\u001b[39m person[\u001b[39m'\u001b[39;49m\u001b[39mawards\u001b[39;49m\u001b[39m'\u001b[39;49m]\n\u001b[1;32m     <a href='vscode-notebook-cell:/Users/vedabojar/Desktop/DataScience/06_datascience_projekt/ds22_project/02_extracting_imdb_data.ipynb#X14sZmlsZQ%3D%3D?line=24'>25</a>\u001b[0m num_awards \u001b[39m=\u001b[39m \u001b[39m0\u001b[39m\n\u001b[1;32m     <a href='vscode-notebook-cell:/Users/vedabojar/Desktop/DataScience/06_datascience_projekt/ds22_project/02_extracting_imdb_data.ipynb#X14sZmlsZQ%3D%3D?line=25'>26</a>\u001b[0m num_nominations \u001b[39m=\u001b[39m \u001b[39m0\u001b[39m\n",
      "File \u001b[0;32m~/opt/anaconda3/lib/python3.9/site-packages/imdb/utils.py:1503\u001b[0m, in \u001b[0;36m_Container.__getitem__\u001b[0;34m(self, key)\u001b[0m\n\u001b[1;32m   1501\u001b[0m     rawData \u001b[39m=\u001b[39m \u001b[39mself\u001b[39m\u001b[39m.\u001b[39mdata[\u001b[39mself\u001b[39m\u001b[39m.\u001b[39mkeys_alias[key]]\n\u001b[1;32m   1502\u001b[0m \u001b[39melse\u001b[39;00m:\n\u001b[0;32m-> 1503\u001b[0m     rawData \u001b[39m=\u001b[39m \u001b[39mself\u001b[39;49m\u001b[39m.\u001b[39;49mdata[key]\n\u001b[1;32m   1504\u001b[0m \u001b[39mif\u001b[39;00m key \u001b[39min\u001b[39;00m \u001b[39mself\u001b[39m\u001b[39m.\u001b[39mkeys_tomodify \u001b[39mand\u001b[39;00m \\\n\u001b[1;32m   1505\u001b[0m         \u001b[39mself\u001b[39m\u001b[39m.\u001b[39mmodFunct \u001b[39mnot\u001b[39;00m \u001b[39min\u001b[39;00m (\u001b[39mNone\u001b[39;00m, modNull):\n\u001b[1;32m   1506\u001b[0m     \u001b[39mtry\u001b[39;00m:\n",
      "\u001b[0;31mKeyError\u001b[0m: 'awards'"
     ]
    }
   ],
   "source": [
    "# Running the function above\n",
    "update_columns('Lead', dataset, 'actor')"
   ]
  },
  {
   "attachments": {},
   "cell_type": "markdown",
   "metadata": {},
   "source": [
    "## 3. Finding the number of movies and average rating for Supporting stars"
   ]
  },
  {
   "cell_type": "code",
   "execution_count": null,
   "metadata": {},
   "outputs": [
    {
     "ename": "KeyError",
     "evalue": "'actor'",
     "output_type": "error",
     "traceback": [
      "\u001b[0;31m---------------------------------------------------------------------------\u001b[0m",
      "\u001b[0;31mKeyError\u001b[0m                                  Traceback (most recent call last)",
      "\u001b[1;32m/Users/vedabojar/Desktop/DataScience/06_datascience_projekt/ds22_project/02_extracting_imdb_data.ipynb Cell 13\u001b[0m in \u001b[0;36m<cell line: 2>\u001b[0;34m()\u001b[0m\n\u001b[1;32m      <a href='vscode-notebook-cell:/Users/vedabojar/Desktop/DataScience/06_datascience_projekt/ds22_project/02_extracting_imdb_data.ipynb#X20sZmlsZQ%3D%3D?line=0'>1</a>\u001b[0m \u001b[39m# Running the function above\u001b[39;00m\n\u001b[0;32m----> <a href='vscode-notebook-cell:/Users/vedabojar/Desktop/DataScience/06_datascience_projekt/ds22_project/02_extracting_imdb_data.ipynb#X20sZmlsZQ%3D%3D?line=1'>2</a>\u001b[0m update_columns(\u001b[39m'\u001b[39;49m\u001b[39mSupporting\u001b[39;49m\u001b[39m'\u001b[39;49m, dataset, \u001b[39m'\u001b[39;49m\u001b[39mactor\u001b[39;49m\u001b[39m'\u001b[39;49m)\n",
      "\u001b[1;32m/Users/vedabojar/Desktop/DataScience/06_datascience_projekt/ds22_project/02_extracting_imdb_data.ipynb Cell 13\u001b[0m in \u001b[0;36mupdate_columns\u001b[0;34m(column_name, dataset, person_type)\u001b[0m\n\u001b[1;32m     <a href='vscode-notebook-cell:/Users/vedabojar/Desktop/DataScience/06_datascience_projekt/ds22_project/02_extracting_imdb_data.ipynb#X20sZmlsZQ%3D%3D?line=29'>30</a>\u001b[0m ratings_list \u001b[39m=\u001b[39m []\n\u001b[1;32m     <a href='vscode-notebook-cell:/Users/vedabojar/Desktop/DataScience/06_datascience_projekt/ds22_project/02_extracting_imdb_data.ipynb#X20sZmlsZQ%3D%3D?line=31'>32</a>\u001b[0m \u001b[39m# Iterate over the actor's filmography and extract the movie id\u001b[39;00m\n\u001b[0;32m---> <a href='vscode-notebook-cell:/Users/vedabojar/Desktop/DataScience/06_datascience_projekt/ds22_project/02_extracting_imdb_data.ipynb#X20sZmlsZQ%3D%3D?line=32'>33</a>\u001b[0m \u001b[39mfor\u001b[39;00m movie \u001b[39min\u001b[39;00m person[\u001b[39m'\u001b[39;49m\u001b[39mfilmography\u001b[39;49m\u001b[39m'\u001b[39;49m][person_type]:\n\u001b[1;32m     <a href='vscode-notebook-cell:/Users/vedabojar/Desktop/DataScience/06_datascience_projekt/ds22_project/02_extracting_imdb_data.ipynb#X20sZmlsZQ%3D%3D?line=33'>34</a>\u001b[0m     movie_title \u001b[39m=\u001b[39m movie\u001b[39m.\u001b[39mmovieID\n\u001b[1;32m     <a href='vscode-notebook-cell:/Users/vedabojar/Desktop/DataScience/06_datascience_projekt/ds22_project/02_extracting_imdb_data.ipynb#X20sZmlsZQ%3D%3D?line=35'>36</a>\u001b[0m     \u001b[39m# Get the movie's rating based on the movie id\u001b[39;00m\n",
      "\u001b[0;31mKeyError\u001b[0m: 'actor'"
     ]
    }
   ],
   "source": [
    "# Running the function above\n",
    "update_columns('Supporting', dataset, 'actor')"
   ]
  },
  {
   "cell_type": "code",
   "execution_count": null,
   "metadata": {},
   "outputs": [],
   "source": [
    "dataset.info()"
   ]
  }
 ],
 "metadata": {
  "kernelspec": {
   "display_name": "base",
   "language": "python",
   "name": "python3"
  },
  "language_info": {
   "codemirror_mode": {
    "name": "ipython",
    "version": 3
   },
   "file_extension": ".py",
   "mimetype": "text/x-python",
   "name": "python",
   "nbconvert_exporter": "python",
   "pygments_lexer": "ipython3",
   "version": "3.9.12"
  },
  "orig_nbformat": 4,
  "vscode": {
   "interpreter": {
    "hash": "c0de92a10c1f65e53f9acff1f0bafd09b320a4aed9d91aa143eea6431dc87452"
   }
  }
 },
 "nbformat": 4,
 "nbformat_minor": 2
}
